{
  "cells": [
    {
      "cell_type": "markdown",
      "metadata": {
        "id": "bPZ7kf_ZSvsM"
      },
      "source": [
        "# Transfer learning & fine-tuning\n",
        "\n",
        "**Author:** Phillip Lee, Caleb Kim, Kshitij Kulshrestha<br>\n",
        "**Date created:** 2024/04/06<br>\n",
        "**Last modified:** 2024/04/26<br>\n",
        "**Description:** Complete guide to transfer learning & fine-tuning using ResNet18.\n"
      ]
    },
    {
      "cell_type": "markdown",
      "metadata": {
        "id": "8sFNXr6xSvsQ"
      },
      "source": [
        "## Setup"
      ]
    },
    {
      "cell_type": "code",
      "execution_count": null,
      "metadata": {
        "colab": {
          "base_uri": "https://localhost:8080/"
        },
        "id": "jO5YGa03czg0",
        "outputId": "b4938a87-ae29-4a4a-f37a-80646684e35a"
      },
      "outputs": [
        {
          "output_type": "stream",
          "name": "stdout",
          "text": [
            "Requirement already satisfied: keras in /usr/local/lib/python3.10/dist-packages (2.15.0)\n",
            "Requirement already satisfied: tensorflow in /usr/local/lib/python3.10/dist-packages (2.15.0)\n",
            "Requirement already satisfied: absl-py>=1.0.0 in /usr/local/lib/python3.10/dist-packages (from tensorflow) (1.4.0)\n",
            "Requirement already satisfied: astunparse>=1.6.0 in /usr/local/lib/python3.10/dist-packages (from tensorflow) (1.6.3)\n",
            "Requirement already satisfied: flatbuffers>=23.5.26 in /usr/local/lib/python3.10/dist-packages (from tensorflow) (24.3.25)\n",
            "Requirement already satisfied: gast!=0.5.0,!=0.5.1,!=0.5.2,>=0.2.1 in /usr/local/lib/python3.10/dist-packages (from tensorflow) (0.5.4)\n",
            "Requirement already satisfied: google-pasta>=0.1.1 in /usr/local/lib/python3.10/dist-packages (from tensorflow) (0.2.0)\n",
            "Requirement already satisfied: h5py>=2.9.0 in /usr/local/lib/python3.10/dist-packages (from tensorflow) (3.9.0)\n",
            "Requirement already satisfied: libclang>=13.0.0 in /usr/local/lib/python3.10/dist-packages (from tensorflow) (18.1.1)\n",
            "Requirement already satisfied: ml-dtypes~=0.2.0 in /usr/local/lib/python3.10/dist-packages (from tensorflow) (0.2.0)\n",
            "Requirement already satisfied: numpy<2.0.0,>=1.23.5 in /usr/local/lib/python3.10/dist-packages (from tensorflow) (1.25.2)\n",
            "Requirement already satisfied: opt-einsum>=2.3.2 in /usr/local/lib/python3.10/dist-packages (from tensorflow) (3.3.0)\n",
            "Requirement already satisfied: packaging in /usr/local/lib/python3.10/dist-packages (from tensorflow) (24.0)\n",
            "Requirement already satisfied: protobuf!=4.21.0,!=4.21.1,!=4.21.2,!=4.21.3,!=4.21.4,!=4.21.5,<5.0.0dev,>=3.20.3 in /usr/local/lib/python3.10/dist-packages (from tensorflow) (3.20.3)\n",
            "Requirement already satisfied: setuptools in /usr/local/lib/python3.10/dist-packages (from tensorflow) (67.7.2)\n",
            "Requirement already satisfied: six>=1.12.0 in /usr/local/lib/python3.10/dist-packages (from tensorflow) (1.16.0)\n",
            "Requirement already satisfied: termcolor>=1.1.0 in /usr/local/lib/python3.10/dist-packages (from tensorflow) (2.4.0)\n",
            "Requirement already satisfied: typing-extensions>=3.6.6 in /usr/local/lib/python3.10/dist-packages (from tensorflow) (4.11.0)\n",
            "Requirement already satisfied: wrapt<1.15,>=1.11.0 in /usr/local/lib/python3.10/dist-packages (from tensorflow) (1.14.1)\n",
            "Requirement already satisfied: tensorflow-io-gcs-filesystem>=0.23.1 in /usr/local/lib/python3.10/dist-packages (from tensorflow) (0.36.0)\n",
            "Requirement already satisfied: grpcio<2.0,>=1.24.3 in /usr/local/lib/python3.10/dist-packages (from tensorflow) (1.62.2)\n",
            "Requirement already satisfied: tensorboard<2.16,>=2.15 in /usr/local/lib/python3.10/dist-packages (from tensorflow) (2.15.2)\n",
            "Requirement already satisfied: tensorflow-estimator<2.16,>=2.15.0 in /usr/local/lib/python3.10/dist-packages (from tensorflow) (2.15.0)\n",
            "Requirement already satisfied: keras<2.16,>=2.15.0 in /usr/local/lib/python3.10/dist-packages (from tensorflow) (2.15.0)\n",
            "Requirement already satisfied: wheel<1.0,>=0.23.0 in /usr/local/lib/python3.10/dist-packages (from astunparse>=1.6.0->tensorflow) (0.43.0)\n",
            "Requirement already satisfied: google-auth<3,>=1.6.3 in /usr/local/lib/python3.10/dist-packages (from tensorboard<2.16,>=2.15->tensorflow) (2.27.0)\n",
            "Requirement already satisfied: google-auth-oauthlib<2,>=0.5 in /usr/local/lib/python3.10/dist-packages (from tensorboard<2.16,>=2.15->tensorflow) (1.2.0)\n",
            "Requirement already satisfied: markdown>=2.6.8 in /usr/local/lib/python3.10/dist-packages (from tensorboard<2.16,>=2.15->tensorflow) (3.6)\n",
            "Requirement already satisfied: requests<3,>=2.21.0 in /usr/local/lib/python3.10/dist-packages (from tensorboard<2.16,>=2.15->tensorflow) (2.31.0)\n",
            "Requirement already satisfied: tensorboard-data-server<0.8.0,>=0.7.0 in /usr/local/lib/python3.10/dist-packages (from tensorboard<2.16,>=2.15->tensorflow) (0.7.2)\n",
            "Requirement already satisfied: werkzeug>=1.0.1 in /usr/local/lib/python3.10/dist-packages (from tensorboard<2.16,>=2.15->tensorflow) (3.0.2)\n",
            "Requirement already satisfied: cachetools<6.0,>=2.0.0 in /usr/local/lib/python3.10/dist-packages (from google-auth<3,>=1.6.3->tensorboard<2.16,>=2.15->tensorflow) (5.3.3)\n",
            "Requirement already satisfied: pyasn1-modules>=0.2.1 in /usr/local/lib/python3.10/dist-packages (from google-auth<3,>=1.6.3->tensorboard<2.16,>=2.15->tensorflow) (0.4.0)\n",
            "Requirement already satisfied: rsa<5,>=3.1.4 in /usr/local/lib/python3.10/dist-packages (from google-auth<3,>=1.6.3->tensorboard<2.16,>=2.15->tensorflow) (4.9)\n",
            "Requirement already satisfied: requests-oauthlib>=0.7.0 in /usr/local/lib/python3.10/dist-packages (from google-auth-oauthlib<2,>=0.5->tensorboard<2.16,>=2.15->tensorflow) (1.3.1)\n",
            "Requirement already satisfied: charset-normalizer<4,>=2 in /usr/local/lib/python3.10/dist-packages (from requests<3,>=2.21.0->tensorboard<2.16,>=2.15->tensorflow) (3.3.2)\n",
            "Requirement already satisfied: idna<4,>=2.5 in /usr/local/lib/python3.10/dist-packages (from requests<3,>=2.21.0->tensorboard<2.16,>=2.15->tensorflow) (3.7)\n",
            "Requirement already satisfied: urllib3<3,>=1.21.1 in /usr/local/lib/python3.10/dist-packages (from requests<3,>=2.21.0->tensorboard<2.16,>=2.15->tensorflow) (2.0.7)\n",
            "Requirement already satisfied: certifi>=2017.4.17 in /usr/local/lib/python3.10/dist-packages (from requests<3,>=2.21.0->tensorboard<2.16,>=2.15->tensorflow) (2024.2.2)\n",
            "Requirement already satisfied: MarkupSafe>=2.1.1 in /usr/local/lib/python3.10/dist-packages (from werkzeug>=1.0.1->tensorboard<2.16,>=2.15->tensorflow) (2.1.5)\n",
            "Requirement already satisfied: pyasn1<0.7.0,>=0.4.6 in /usr/local/lib/python3.10/dist-packages (from pyasn1-modules>=0.2.1->google-auth<3,>=1.6.3->tensorboard<2.16,>=2.15->tensorflow) (0.6.0)\n",
            "Requirement already satisfied: oauthlib>=3.0.0 in /usr/local/lib/python3.10/dist-packages (from requests-oauthlib>=0.7.0->google-auth-oauthlib<2,>=0.5->tensorboard<2.16,>=2.15->tensorflow) (3.2.2)\n",
            "Requirement already satisfied: pandas in /usr/local/lib/python3.10/dist-packages (2.0.3)\n",
            "Requirement already satisfied: python-dateutil>=2.8.2 in /usr/local/lib/python3.10/dist-packages (from pandas) (2.8.2)\n",
            "Requirement already satisfied: pytz>=2020.1 in /usr/local/lib/python3.10/dist-packages (from pandas) (2023.4)\n",
            "Requirement already satisfied: tzdata>=2022.1 in /usr/local/lib/python3.10/dist-packages (from pandas) (2024.1)\n",
            "Requirement already satisfied: numpy>=1.21.0 in /usr/local/lib/python3.10/dist-packages (from pandas) (1.25.2)\n",
            "Requirement already satisfied: six>=1.5 in /usr/local/lib/python3.10/dist-packages (from python-dateutil>=2.8.2->pandas) (1.16.0)\n",
            "Requirement already satisfied: Pillow in /usr/local/lib/python3.10/dist-packages (9.4.0)\n"
          ]
        }
      ],
      "source": [
        "!pip install keras\n",
        "!pip install tensorflow\n",
        "!pip install pandas\n",
        "!pip install Pillow"
      ]
    },
    {
      "cell_type": "code",
      "execution_count": null,
      "metadata": {
        "colab": {
          "base_uri": "https://localhost:8080/"
        },
        "id": "uFu0SDbaU7jJ",
        "outputId": "1a4721a8-e44e-4f80-f8c4-406657c0f209"
      },
      "outputs": [
        {
          "output_type": "stream",
          "name": "stdout",
          "text": [
            "Mounted at /content/drive\n"
          ]
        }
      ],
      "source": [
        "from google.colab import drive\n",
        "import os\n",
        "import pandas as pd\n",
        "\n",
        "\n",
        "# Mount Google Drive\n",
        "drive.mount('/content/drive')"
      ]
    },
    {
      "cell_type": "markdown",
      "metadata": {
        "id": "nmp-0MdIfovT"
      },
      "source": [
        "Convert two json files into output csvs for model to create dataframes.\n",
        "\n",
        "(Include files \"test_set_task3.json\" & \"training_set_task3.json\" into the Google Colab directly)\n"
      ]
    },
    {
      "cell_type": "code",
      "execution_count": null,
      "metadata": {
        "colab": {
          "base_uri": "https://localhost:8080/"
        },
        "id": "dX5GVJfNQJV7",
        "outputId": "5264ad63-1b16-4da8-fdfe-ea1713ee85d2"
      },
      "outputs": [
        {
          "output_type": "stream",
          "name": "stdout",
          "text": [
            "    id                                             labels  \\\n",
            "0  128  Black-and-white Fallacy/Dictatorship, Name cal...   \n",
            "1  189             Reductio ad hitlerum, Smears, Transfer   \n",
            "2   96  Appeal to fear/prejudice, Loaded Language, Nam...   \n",
            "3  154  Causal Oversimplification, Glittering generali...   \n",
            "4   15  Flag-waving, Misrepresentation of Someone's Po...   \n",
            "\n",
            "                                                text          image  \n",
            "0    THERE ARE ONLY TWO GENDERS\\n\\nFEMALE \\n\\nMALE\\n  128_image.png  \n",
            "1                           This is not an accident!  189_image.png  \n",
            "2  SO BERNIE BROS HAVEN'T COMMITTED VIOLENCE EH?\\...   96_image.png  \n",
            "3  PATHETIC\\n\\nThe Cowardly Asshole\\nWeak Failure...  154_image.png  \n",
            "4  WHO TRUMP REPRESENTS\\n\\nWHO DEMOCRATS REPRESENT\\n   15_image.png  \n",
            "            id                                             labels  \\\n",
            "0  705_batch_2   Name calling/Labeling, Slogans, Smears, Transfer   \n",
            "1  706_batch_2  Appeal to (Strong) Emotions, Appeal to fear/pr...   \n",
            "2  710_batch_2      Doubt, Loaded Language, Name calling/Labeling   \n",
            "3  713_batch_2         Exaggeration/Minimisation, Loaded Language   \n",
            "4  715_batch_2                                              Doubt   \n",
            "\n",
            "                                                text                  image  \n",
            "0                        The Democrats New America\\n  705_image_batch_2.png  \n",
            "1  WE ARE AT WAR!\\n\\nThere is a complex assault o...  706_image_batch_2.png  \n",
            "2  KILLED HIMSELF IN PRISON\\n\\nWON AN HONEST ELEC...  710_image_batch_2.png  \n",
            "3  I will never concede!\\n\\nNO WAY IN HELL BIDEN ...  713_image_batch_2.png  \n",
            "4  TRYING TO FIGURE OUT HOW BIDEN WON A RECORD LO...  715_image_batch_2.png  \n"
          ]
        }
      ],
      "source": [
        "import json\n",
        "import csv\n",
        "import io\n",
        "from sklearn.preprocessing import LabelEncoder\n",
        "from google.colab import files\n",
        "\n",
        "\n",
        "def convert_json_to_csv(json_files, csv_file):\n",
        "    data = []\n",
        "    for json_file in json_files:\n",
        "        with open(json_file, 'r') as f:\n",
        "            json_data = json.load(f)\n",
        "            for entry in json_data:\n",
        "              if 'labels' in entry and isinstance(entry['labels'], list):\n",
        "                entry['labels'] = ', '.join(entry['labels'])\n",
        "              data.append(entry)\n",
        "\n",
        "    with open(csv_file, 'w', newline='', encoding='utf-8') as f:\n",
        "        if data:\n",
        "            fieldnames = data[0].keys()  # Dynamically determine fieldnames from data\n",
        "            writer = csv.DictWriter(f, fieldnames=fieldnames)\n",
        "            writer.writeheader()\n",
        "            for item in data:\n",
        "                writer.writerow(item)\n",
        "\n",
        "json_train_files = ['training_set_task3.json']\n",
        "json_test_files = ['test_set_task3.json']\n",
        "output_train_csv_file = '/content/output_train.csv'\n",
        "output_test_csv_file = '/content/output_test.csv'\n",
        "convert_json_to_csv(json_train_files, output_train_csv_file)\n",
        "convert_json_to_csv(json_test_files, output_test_csv_file)\n",
        "train_df = pd.read_csv(output_train_csv_file)\n",
        "test_df = pd.read_csv(output_test_csv_file)\n",
        "print(train_df.head())\n",
        "print(test_df.head())"
      ]
    },
    {
      "cell_type": "code",
      "execution_count": null,
      "metadata": {
        "colab": {
          "base_uri": "https://localhost:8080/",
          "height": 424
        },
        "id": "m9vNlaBpxQM_",
        "outputId": "52289ba2-6a63-4d7b-b1ab-5f5ec25bcd23"
      },
      "outputs": [
        {
          "output_type": "execute_result",
          "data": {
            "text/plain": [
              "              id                                             labels  \\\n",
              "0            128  Black-and-white Fallacy/Dictatorship, Name cal...   \n",
              "1            189             Reductio ad hitlerum, Smears, Transfer   \n",
              "2             96  Appeal to fear/prejudice, Loaded Language, Nam...   \n",
              "3            154  Causal Oversimplification, Glittering generali...   \n",
              "4             15  Flag-waving, Misrepresentation of Someone's Po...   \n",
              "..           ...                                                ...   \n",
              "682  501_batch_2                                             Smears   \n",
              "683  508_batch_2                                             Smears   \n",
              "684  509_batch_2     Loaded Language, Name calling/Labeling, Smears   \n",
              "685  510_batch_2                            Loaded Language, Smears   \n",
              "686  512_batch_2     Loaded Language, Name calling/Labeling, Smears   \n",
              "\n",
              "                                                  text                  image  \n",
              "0      THERE ARE ONLY TWO GENDERS\\n\\nFEMALE \\n\\nMALE\\n          128_image.png  \n",
              "1                             This is not an accident!          189_image.png  \n",
              "2    SO BERNIE BROS HAVEN'T COMMITTED VIOLENCE EH?\\...           96_image.png  \n",
              "3    PATHETIC\\n\\nThe Cowardly Asshole\\nWeak Failure...          154_image.png  \n",
              "4    WHO TRUMP REPRESENTS\\n\\nWHO DEMOCRATS REPRESENT\\n           15_image.png  \n",
              "..                                                 ...                    ...  \n",
              "682  HOW TO KILL THE CORONOVIRUS...\\nHey Hillary, I...  501_image_batch_2.png  \n",
              "683  LOOK, WHEN I'M IN THE WAFFLE HOUSE, I'M GOING ...  508_image_batch_2.png  \n",
              "684                I support MLB\\n\\nIt's BLM you idiot  509_image_batch_2.png  \n",
              "685  PELOSI ENDORSES BIDEN\\n\"He is a leader who is ...  510_image_batch_2.png  \n",
              "686  IF YOU TRUST SOMEONE WHO HAS\\n\\n500,000 SHARES...  512_image_batch_2.png  \n",
              "\n",
              "[687 rows x 4 columns]"
            ],
            "text/html": [
              "\n",
              "  <div id=\"df-34262569-32d2-4e6b-ad87-138a592e3295\" class=\"colab-df-container\">\n",
              "    <div>\n",
              "<style scoped>\n",
              "    .dataframe tbody tr th:only-of-type {\n",
              "        vertical-align: middle;\n",
              "    }\n",
              "\n",
              "    .dataframe tbody tr th {\n",
              "        vertical-align: top;\n",
              "    }\n",
              "\n",
              "    .dataframe thead th {\n",
              "        text-align: right;\n",
              "    }\n",
              "</style>\n",
              "<table border=\"1\" class=\"dataframe\">\n",
              "  <thead>\n",
              "    <tr style=\"text-align: right;\">\n",
              "      <th></th>\n",
              "      <th>id</th>\n",
              "      <th>labels</th>\n",
              "      <th>text</th>\n",
              "      <th>image</th>\n",
              "    </tr>\n",
              "  </thead>\n",
              "  <tbody>\n",
              "    <tr>\n",
              "      <th>0</th>\n",
              "      <td>128</td>\n",
              "      <td>Black-and-white Fallacy/Dictatorship, Name cal...</td>\n",
              "      <td>THERE ARE ONLY TWO GENDERS\\n\\nFEMALE \\n\\nMALE\\n</td>\n",
              "      <td>128_image.png</td>\n",
              "    </tr>\n",
              "    <tr>\n",
              "      <th>1</th>\n",
              "      <td>189</td>\n",
              "      <td>Reductio ad hitlerum, Smears, Transfer</td>\n",
              "      <td>This is not an accident!</td>\n",
              "      <td>189_image.png</td>\n",
              "    </tr>\n",
              "    <tr>\n",
              "      <th>2</th>\n",
              "      <td>96</td>\n",
              "      <td>Appeal to fear/prejudice, Loaded Language, Nam...</td>\n",
              "      <td>SO BERNIE BROS HAVEN'T COMMITTED VIOLENCE EH?\\...</td>\n",
              "      <td>96_image.png</td>\n",
              "    </tr>\n",
              "    <tr>\n",
              "      <th>3</th>\n",
              "      <td>154</td>\n",
              "      <td>Causal Oversimplification, Glittering generali...</td>\n",
              "      <td>PATHETIC\\n\\nThe Cowardly Asshole\\nWeak Failure...</td>\n",
              "      <td>154_image.png</td>\n",
              "    </tr>\n",
              "    <tr>\n",
              "      <th>4</th>\n",
              "      <td>15</td>\n",
              "      <td>Flag-waving, Misrepresentation of Someone's Po...</td>\n",
              "      <td>WHO TRUMP REPRESENTS\\n\\nWHO DEMOCRATS REPRESENT\\n</td>\n",
              "      <td>15_image.png</td>\n",
              "    </tr>\n",
              "    <tr>\n",
              "      <th>...</th>\n",
              "      <td>...</td>\n",
              "      <td>...</td>\n",
              "      <td>...</td>\n",
              "      <td>...</td>\n",
              "    </tr>\n",
              "    <tr>\n",
              "      <th>682</th>\n",
              "      <td>501_batch_2</td>\n",
              "      <td>Smears</td>\n",
              "      <td>HOW TO KILL THE CORONOVIRUS...\\nHey Hillary, I...</td>\n",
              "      <td>501_image_batch_2.png</td>\n",
              "    </tr>\n",
              "    <tr>\n",
              "      <th>683</th>\n",
              "      <td>508_batch_2</td>\n",
              "      <td>Smears</td>\n",
              "      <td>LOOK, WHEN I'M IN THE WAFFLE HOUSE, I'M GOING ...</td>\n",
              "      <td>508_image_batch_2.png</td>\n",
              "    </tr>\n",
              "    <tr>\n",
              "      <th>684</th>\n",
              "      <td>509_batch_2</td>\n",
              "      <td>Loaded Language, Name calling/Labeling, Smears</td>\n",
              "      <td>I support MLB\\n\\nIt's BLM you idiot</td>\n",
              "      <td>509_image_batch_2.png</td>\n",
              "    </tr>\n",
              "    <tr>\n",
              "      <th>685</th>\n",
              "      <td>510_batch_2</td>\n",
              "      <td>Loaded Language, Smears</td>\n",
              "      <td>PELOSI ENDORSES BIDEN\\n\"He is a leader who is ...</td>\n",
              "      <td>510_image_batch_2.png</td>\n",
              "    </tr>\n",
              "    <tr>\n",
              "      <th>686</th>\n",
              "      <td>512_batch_2</td>\n",
              "      <td>Loaded Language, Name calling/Labeling, Smears</td>\n",
              "      <td>IF YOU TRUST SOMEONE WHO HAS\\n\\n500,000 SHARES...</td>\n",
              "      <td>512_image_batch_2.png</td>\n",
              "    </tr>\n",
              "  </tbody>\n",
              "</table>\n",
              "<p>687 rows × 4 columns</p>\n",
              "</div>\n",
              "    <div class=\"colab-df-buttons\">\n",
              "\n",
              "  <div class=\"colab-df-container\">\n",
              "    <button class=\"colab-df-convert\" onclick=\"convertToInteractive('df-34262569-32d2-4e6b-ad87-138a592e3295')\"\n",
              "            title=\"Convert this dataframe to an interactive table.\"\n",
              "            style=\"display:none;\">\n",
              "\n",
              "  <svg xmlns=\"http://www.w3.org/2000/svg\" height=\"24px\" viewBox=\"0 -960 960 960\">\n",
              "    <path d=\"M120-120v-720h720v720H120Zm60-500h600v-160H180v160Zm220 220h160v-160H400v160Zm0 220h160v-160H400v160ZM180-400h160v-160H180v160Zm440 0h160v-160H620v160ZM180-180h160v-160H180v160Zm440 0h160v-160H620v160Z\"/>\n",
              "  </svg>\n",
              "    </button>\n",
              "\n",
              "  <style>\n",
              "    .colab-df-container {\n",
              "      display:flex;\n",
              "      gap: 12px;\n",
              "    }\n",
              "\n",
              "    .colab-df-convert {\n",
              "      background-color: #E8F0FE;\n",
              "      border: none;\n",
              "      border-radius: 50%;\n",
              "      cursor: pointer;\n",
              "      display: none;\n",
              "      fill: #1967D2;\n",
              "      height: 32px;\n",
              "      padding: 0 0 0 0;\n",
              "      width: 32px;\n",
              "    }\n",
              "\n",
              "    .colab-df-convert:hover {\n",
              "      background-color: #E2EBFA;\n",
              "      box-shadow: 0px 1px 2px rgba(60, 64, 67, 0.3), 0px 1px 3px 1px rgba(60, 64, 67, 0.15);\n",
              "      fill: #174EA6;\n",
              "    }\n",
              "\n",
              "    .colab-df-buttons div {\n",
              "      margin-bottom: 4px;\n",
              "    }\n",
              "\n",
              "    [theme=dark] .colab-df-convert {\n",
              "      background-color: #3B4455;\n",
              "      fill: #D2E3FC;\n",
              "    }\n",
              "\n",
              "    [theme=dark] .colab-df-convert:hover {\n",
              "      background-color: #434B5C;\n",
              "      box-shadow: 0px 1px 3px 1px rgba(0, 0, 0, 0.15);\n",
              "      filter: drop-shadow(0px 1px 2px rgba(0, 0, 0, 0.3));\n",
              "      fill: #FFFFFF;\n",
              "    }\n",
              "  </style>\n",
              "\n",
              "    <script>\n",
              "      const buttonEl =\n",
              "        document.querySelector('#df-34262569-32d2-4e6b-ad87-138a592e3295 button.colab-df-convert');\n",
              "      buttonEl.style.display =\n",
              "        google.colab.kernel.accessAllowed ? 'block' : 'none';\n",
              "\n",
              "      async function convertToInteractive(key) {\n",
              "        const element = document.querySelector('#df-34262569-32d2-4e6b-ad87-138a592e3295');\n",
              "        const dataTable =\n",
              "          await google.colab.kernel.invokeFunction('convertToInteractive',\n",
              "                                                    [key], {});\n",
              "        if (!dataTable) return;\n",
              "\n",
              "        const docLinkHtml = 'Like what you see? Visit the ' +\n",
              "          '<a target=\"_blank\" href=https://colab.research.google.com/notebooks/data_table.ipynb>data table notebook</a>'\n",
              "          + ' to learn more about interactive tables.';\n",
              "        element.innerHTML = '';\n",
              "        dataTable['output_type'] = 'display_data';\n",
              "        await google.colab.output.renderOutput(dataTable, element);\n",
              "        const docLink = document.createElement('div');\n",
              "        docLink.innerHTML = docLinkHtml;\n",
              "        element.appendChild(docLink);\n",
              "      }\n",
              "    </script>\n",
              "  </div>\n",
              "\n",
              "\n",
              "<div id=\"df-5fd12f12-8ed9-40dc-b7b1-f6ebb310ee38\">\n",
              "  <button class=\"colab-df-quickchart\" onclick=\"quickchart('df-5fd12f12-8ed9-40dc-b7b1-f6ebb310ee38')\"\n",
              "            title=\"Suggest charts\"\n",
              "            style=\"display:none;\">\n",
              "\n",
              "<svg xmlns=\"http://www.w3.org/2000/svg\" height=\"24px\"viewBox=\"0 0 24 24\"\n",
              "     width=\"24px\">\n",
              "    <g>\n",
              "        <path d=\"M19 3H5c-1.1 0-2 .9-2 2v14c0 1.1.9 2 2 2h14c1.1 0 2-.9 2-2V5c0-1.1-.9-2-2-2zM9 17H7v-7h2v7zm4 0h-2V7h2v10zm4 0h-2v-4h2v4z\"/>\n",
              "    </g>\n",
              "</svg>\n",
              "  </button>\n",
              "\n",
              "<style>\n",
              "  .colab-df-quickchart {\n",
              "      --bg-color: #E8F0FE;\n",
              "      --fill-color: #1967D2;\n",
              "      --hover-bg-color: #E2EBFA;\n",
              "      --hover-fill-color: #174EA6;\n",
              "      --disabled-fill-color: #AAA;\n",
              "      --disabled-bg-color: #DDD;\n",
              "  }\n",
              "\n",
              "  [theme=dark] .colab-df-quickchart {\n",
              "      --bg-color: #3B4455;\n",
              "      --fill-color: #D2E3FC;\n",
              "      --hover-bg-color: #434B5C;\n",
              "      --hover-fill-color: #FFFFFF;\n",
              "      --disabled-bg-color: #3B4455;\n",
              "      --disabled-fill-color: #666;\n",
              "  }\n",
              "\n",
              "  .colab-df-quickchart {\n",
              "    background-color: var(--bg-color);\n",
              "    border: none;\n",
              "    border-radius: 50%;\n",
              "    cursor: pointer;\n",
              "    display: none;\n",
              "    fill: var(--fill-color);\n",
              "    height: 32px;\n",
              "    padding: 0;\n",
              "    width: 32px;\n",
              "  }\n",
              "\n",
              "  .colab-df-quickchart:hover {\n",
              "    background-color: var(--hover-bg-color);\n",
              "    box-shadow: 0 1px 2px rgba(60, 64, 67, 0.3), 0 1px 3px 1px rgba(60, 64, 67, 0.15);\n",
              "    fill: var(--button-hover-fill-color);\n",
              "  }\n",
              "\n",
              "  .colab-df-quickchart-complete:disabled,\n",
              "  .colab-df-quickchart-complete:disabled:hover {\n",
              "    background-color: var(--disabled-bg-color);\n",
              "    fill: var(--disabled-fill-color);\n",
              "    box-shadow: none;\n",
              "  }\n",
              "\n",
              "  .colab-df-spinner {\n",
              "    border: 2px solid var(--fill-color);\n",
              "    border-color: transparent;\n",
              "    border-bottom-color: var(--fill-color);\n",
              "    animation:\n",
              "      spin 1s steps(1) infinite;\n",
              "  }\n",
              "\n",
              "  @keyframes spin {\n",
              "    0% {\n",
              "      border-color: transparent;\n",
              "      border-bottom-color: var(--fill-color);\n",
              "      border-left-color: var(--fill-color);\n",
              "    }\n",
              "    20% {\n",
              "      border-color: transparent;\n",
              "      border-left-color: var(--fill-color);\n",
              "      border-top-color: var(--fill-color);\n",
              "    }\n",
              "    30% {\n",
              "      border-color: transparent;\n",
              "      border-left-color: var(--fill-color);\n",
              "      border-top-color: var(--fill-color);\n",
              "      border-right-color: var(--fill-color);\n",
              "    }\n",
              "    40% {\n",
              "      border-color: transparent;\n",
              "      border-right-color: var(--fill-color);\n",
              "      border-top-color: var(--fill-color);\n",
              "    }\n",
              "    60% {\n",
              "      border-color: transparent;\n",
              "      border-right-color: var(--fill-color);\n",
              "    }\n",
              "    80% {\n",
              "      border-color: transparent;\n",
              "      border-right-color: var(--fill-color);\n",
              "      border-bottom-color: var(--fill-color);\n",
              "    }\n",
              "    90% {\n",
              "      border-color: transparent;\n",
              "      border-bottom-color: var(--fill-color);\n",
              "    }\n",
              "  }\n",
              "</style>\n",
              "\n",
              "  <script>\n",
              "    async function quickchart(key) {\n",
              "      const quickchartButtonEl =\n",
              "        document.querySelector('#' + key + ' button');\n",
              "      quickchartButtonEl.disabled = true;  // To prevent multiple clicks.\n",
              "      quickchartButtonEl.classList.add('colab-df-spinner');\n",
              "      try {\n",
              "        const charts = await google.colab.kernel.invokeFunction(\n",
              "            'suggestCharts', [key], {});\n",
              "      } catch (error) {\n",
              "        console.error('Error during call to suggestCharts:', error);\n",
              "      }\n",
              "      quickchartButtonEl.classList.remove('colab-df-spinner');\n",
              "      quickchartButtonEl.classList.add('colab-df-quickchart-complete');\n",
              "    }\n",
              "    (() => {\n",
              "      let quickchartButtonEl =\n",
              "        document.querySelector('#df-5fd12f12-8ed9-40dc-b7b1-f6ebb310ee38 button');\n",
              "      quickchartButtonEl.style.display =\n",
              "        google.colab.kernel.accessAllowed ? 'block' : 'none';\n",
              "    })();\n",
              "  </script>\n",
              "</div>\n",
              "\n",
              "  <div id=\"id_14632c9b-44f5-4ee0-a1e2-0f3d5d51f073\">\n",
              "    <style>\n",
              "      .colab-df-generate {\n",
              "        background-color: #E8F0FE;\n",
              "        border: none;\n",
              "        border-radius: 50%;\n",
              "        cursor: pointer;\n",
              "        display: none;\n",
              "        fill: #1967D2;\n",
              "        height: 32px;\n",
              "        padding: 0 0 0 0;\n",
              "        width: 32px;\n",
              "      }\n",
              "\n",
              "      .colab-df-generate:hover {\n",
              "        background-color: #E2EBFA;\n",
              "        box-shadow: 0px 1px 2px rgba(60, 64, 67, 0.3), 0px 1px 3px 1px rgba(60, 64, 67, 0.15);\n",
              "        fill: #174EA6;\n",
              "      }\n",
              "\n",
              "      [theme=dark] .colab-df-generate {\n",
              "        background-color: #3B4455;\n",
              "        fill: #D2E3FC;\n",
              "      }\n",
              "\n",
              "      [theme=dark] .colab-df-generate:hover {\n",
              "        background-color: #434B5C;\n",
              "        box-shadow: 0px 1px 3px 1px rgba(0, 0, 0, 0.15);\n",
              "        filter: drop-shadow(0px 1px 2px rgba(0, 0, 0, 0.3));\n",
              "        fill: #FFFFFF;\n",
              "      }\n",
              "    </style>\n",
              "    <button class=\"colab-df-generate\" onclick=\"generateWithVariable('train_df')\"\n",
              "            title=\"Generate code using this dataframe.\"\n",
              "            style=\"display:none;\">\n",
              "\n",
              "  <svg xmlns=\"http://www.w3.org/2000/svg\" height=\"24px\"viewBox=\"0 0 24 24\"\n",
              "       width=\"24px\">\n",
              "    <path d=\"M7,19H8.4L18.45,9,17,7.55,7,17.6ZM5,21V16.75L18.45,3.32a2,2,0,0,1,2.83,0l1.4,1.43a1.91,1.91,0,0,1,.58,1.4,1.91,1.91,0,0,1-.58,1.4L9.25,21ZM18.45,9,17,7.55Zm-12,3A5.31,5.31,0,0,0,4.9,8.1,5.31,5.31,0,0,0,1,6.5,5.31,5.31,0,0,0,4.9,4.9,5.31,5.31,0,0,0,6.5,1,5.31,5.31,0,0,0,8.1,4.9,5.31,5.31,0,0,0,12,6.5,5.46,5.46,0,0,0,6.5,12Z\"/>\n",
              "  </svg>\n",
              "    </button>\n",
              "    <script>\n",
              "      (() => {\n",
              "      const buttonEl =\n",
              "        document.querySelector('#id_14632c9b-44f5-4ee0-a1e2-0f3d5d51f073 button.colab-df-generate');\n",
              "      buttonEl.style.display =\n",
              "        google.colab.kernel.accessAllowed ? 'block' : 'none';\n",
              "\n",
              "      buttonEl.onclick = () => {\n",
              "        google.colab.notebook.generateWithVariable('train_df');\n",
              "      }\n",
              "      })();\n",
              "    </script>\n",
              "  </div>\n",
              "\n",
              "    </div>\n",
              "  </div>\n"
            ],
            "application/vnd.google.colaboratory.intrinsic+json": {
              "type": "dataframe",
              "variable_name": "train_df",
              "summary": "{\n  \"name\": \"train_df\",\n  \"rows\": 687,\n  \"fields\": [\n    {\n      \"column\": \"id\",\n      \"properties\": {\n        \"dtype\": \"string\",\n        \"num_unique_values\": 687,\n        \"samples\": [\n          \"306_batch_2\",\n          \"922_batch_2\",\n          \"271_batch_2\"\n        ],\n        \"semantic_type\": \"\",\n        \"description\": \"\"\n      }\n    },\n    {\n      \"column\": \"labels\",\n      \"properties\": {\n        \"dtype\": \"category\",\n        \"num_unique_values\": 267,\n        \"samples\": [\n          \"Appeal to (Strong) Emotions, Name calling/Labeling, Smears\",\n          \"Loaded Language, Smears\",\n          \"Glittering generalities (Virtue), Loaded Language, Misrepresentation of Someone's Position (Straw Man), Whataboutism\"\n        ],\n        \"semantic_type\": \"\",\n        \"description\": \"\"\n      }\n    },\n    {\n      \"column\": \"text\",\n      \"properties\": {\n        \"dtype\": \"string\",\n        \"num_unique_values\": 687,\n        \"samples\": [\n          \"THAT LOOK YOU GET WHEN YOUR BILLION DOLLAR VIRUS HAS A $20 CURE.\",\n          \"Who built the cages, Joe?\\n\",\n          \"STATES OF AMERICA\\n\\nUsed to think Trump was great but now seeing the whole system was rigged against him, I have to believe now that he is one of the greatest of all time!\"\n        ],\n        \"semantic_type\": \"\",\n        \"description\": \"\"\n      }\n    },\n    {\n      \"column\": \"image\",\n      \"properties\": {\n        \"dtype\": \"string\",\n        \"num_unique_values\": 687,\n        \"samples\": [\n          \"306_image_batch_2.png\",\n          \"922_image_batch_2.png\",\n          \"271_image_batch_2.png\"\n        ],\n        \"semantic_type\": \"\",\n        \"description\": \"\"\n      }\n    }\n  ]\n}"
            }
          },
          "metadata": {},
          "execution_count": 3
        }
      ],
      "source": [
        "train_df"
      ]
    },
    {
      "cell_type": "code",
      "execution_count": null,
      "metadata": {
        "colab": {
          "base_uri": "https://localhost:8080/"
        },
        "id": "SL_Fm1GyKkY4",
        "outputId": "bdb95be5-a486-4507-a57d-1d6cae7aac08"
      },
      "outputs": [
        {
          "output_type": "execute_result",
          "data": {
            "text/plain": [
              "labels\n",
              "Smears                                                                                                                         82\n",
              "Loaded Language, Name calling/Labeling, Smears                                                                                 67\n",
              "Loaded Language, Smears                                                                                                        51\n",
              "Name calling/Labeling, Smears                                                                                                  32\n",
              "Loaded Language                                                                                                                20\n",
              "                                                                                                                               ..\n",
              "Smears, Thought-terminating cliché                                                                                              1\n",
              "Loaded Language, Misrepresentation of Someone's Position (Straw Man), Name calling/Labeling, Slogans, Smears                    1\n",
              "Flag-waving, Glittering generalities (Virtue), Slogans, Smears                                                                  1\n",
              "Appeal to authority, Appeal to fear/prejudice, Black-and-white Fallacy/Dictatorship, Loaded Language, Name calling/Labeling     1\n",
              "Loaded Language, Reductio ad hitlerum, Smears, Transfer                                                                         1\n",
              "Name: count, Length: 267, dtype: int64"
            ]
          },
          "metadata": {},
          "execution_count": 4
        }
      ],
      "source": [
        "train_df['labels'].value_counts()"
      ]
    },
    {
      "cell_type": "code",
      "execution_count": null,
      "metadata": {
        "colab": {
          "base_uri": "https://localhost:8080/",
          "height": 424
        },
        "id": "QT-q08lLPKaY",
        "outputId": "b3b659f4-a8be-40d7-d623-68e5b9d32345"
      },
      "outputs": [
        {
          "output_type": "execute_result",
          "data": {
            "text/plain": [
              "              id                                             labels  \\\n",
              "0    705_batch_2   Name calling/Labeling, Slogans, Smears, Transfer   \n",
              "1    706_batch_2  Appeal to (Strong) Emotions, Appeal to fear/pr...   \n",
              "2    710_batch_2      Doubt, Loaded Language, Name calling/Labeling   \n",
              "3    713_batch_2         Exaggeration/Minimisation, Loaded Language   \n",
              "4    715_batch_2                                              Doubt   \n",
              "..           ...                                                ...   \n",
              "195  761_batch_2                                             Smears   \n",
              "196  762_batch_2                                    Loaded Language   \n",
              "197  764_batch_2                            Loaded Language, Smears   \n",
              "198  768_batch_2                                             Smears   \n",
              "199  769_batch_2                              Name calling/Labeling   \n",
              "\n",
              "                                                  text                  image  \n",
              "0                          The Democrats New America\\n  705_image_batch_2.png  \n",
              "1    WE ARE AT WAR!\\n\\nThere is a complex assault o...  706_image_batch_2.png  \n",
              "2    KILLED HIMSELF IN PRISON\\n\\nWON AN HONEST ELEC...  710_image_batch_2.png  \n",
              "3    I will never concede!\\n\\nNO WAY IN HELL BIDEN ...  713_image_batch_2.png  \n",
              "4    TRYING TO FIGURE OUT HOW BIDEN WON A RECORD LO...  715_image_batch_2.png  \n",
              "..                                                 ...                    ...  \n",
              "195                        Hi Joe, it's me...Cornpop\\n  761_image_batch_2.png  \n",
              "196  HE'S MAKING HIS LIST\\n\\nHE'S CHECKING IT TWICE...  762_image_batch_2.png  \n",
              "197  PA WHAT'S IRONY MEAN?\\n\\nIRONY IS WHEN THE LIB...  764_image_batch_2.png  \n",
              "198  Girlfriend Keeps Referring To Herself As 'Wife...  768_image_batch_2.png  \n",
              "199               9 \"LEGAL VOTES\" LEFT TO BE COUNTED\\n  769_image_batch_2.png  \n",
              "\n",
              "[200 rows x 4 columns]"
            ],
            "text/html": [
              "\n",
              "  <div id=\"df-862f2a8e-256d-485b-a7e1-6ac23b77def4\" class=\"colab-df-container\">\n",
              "    <div>\n",
              "<style scoped>\n",
              "    .dataframe tbody tr th:only-of-type {\n",
              "        vertical-align: middle;\n",
              "    }\n",
              "\n",
              "    .dataframe tbody tr th {\n",
              "        vertical-align: top;\n",
              "    }\n",
              "\n",
              "    .dataframe thead th {\n",
              "        text-align: right;\n",
              "    }\n",
              "</style>\n",
              "<table border=\"1\" class=\"dataframe\">\n",
              "  <thead>\n",
              "    <tr style=\"text-align: right;\">\n",
              "      <th></th>\n",
              "      <th>id</th>\n",
              "      <th>labels</th>\n",
              "      <th>text</th>\n",
              "      <th>image</th>\n",
              "    </tr>\n",
              "  </thead>\n",
              "  <tbody>\n",
              "    <tr>\n",
              "      <th>0</th>\n",
              "      <td>705_batch_2</td>\n",
              "      <td>Name calling/Labeling, Slogans, Smears, Transfer</td>\n",
              "      <td>The Democrats New America\\n</td>\n",
              "      <td>705_image_batch_2.png</td>\n",
              "    </tr>\n",
              "    <tr>\n",
              "      <th>1</th>\n",
              "      <td>706_batch_2</td>\n",
              "      <td>Appeal to (Strong) Emotions, Appeal to fear/pr...</td>\n",
              "      <td>WE ARE AT WAR!\\n\\nThere is a complex assault o...</td>\n",
              "      <td>706_image_batch_2.png</td>\n",
              "    </tr>\n",
              "    <tr>\n",
              "      <th>2</th>\n",
              "      <td>710_batch_2</td>\n",
              "      <td>Doubt, Loaded Language, Name calling/Labeling</td>\n",
              "      <td>KILLED HIMSELF IN PRISON\\n\\nWON AN HONEST ELEC...</td>\n",
              "      <td>710_image_batch_2.png</td>\n",
              "    </tr>\n",
              "    <tr>\n",
              "      <th>3</th>\n",
              "      <td>713_batch_2</td>\n",
              "      <td>Exaggeration/Minimisation, Loaded Language</td>\n",
              "      <td>I will never concede!\\n\\nNO WAY IN HELL BIDEN ...</td>\n",
              "      <td>713_image_batch_2.png</td>\n",
              "    </tr>\n",
              "    <tr>\n",
              "      <th>4</th>\n",
              "      <td>715_batch_2</td>\n",
              "      <td>Doubt</td>\n",
              "      <td>TRYING TO FIGURE OUT HOW BIDEN WON A RECORD LO...</td>\n",
              "      <td>715_image_batch_2.png</td>\n",
              "    </tr>\n",
              "    <tr>\n",
              "      <th>...</th>\n",
              "      <td>...</td>\n",
              "      <td>...</td>\n",
              "      <td>...</td>\n",
              "      <td>...</td>\n",
              "    </tr>\n",
              "    <tr>\n",
              "      <th>195</th>\n",
              "      <td>761_batch_2</td>\n",
              "      <td>Smears</td>\n",
              "      <td>Hi Joe, it's me...Cornpop\\n</td>\n",
              "      <td>761_image_batch_2.png</td>\n",
              "    </tr>\n",
              "    <tr>\n",
              "      <th>196</th>\n",
              "      <td>762_batch_2</td>\n",
              "      <td>Loaded Language</td>\n",
              "      <td>HE'S MAKING HIS LIST\\n\\nHE'S CHECKING IT TWICE...</td>\n",
              "      <td>762_image_batch_2.png</td>\n",
              "    </tr>\n",
              "    <tr>\n",
              "      <th>197</th>\n",
              "      <td>764_batch_2</td>\n",
              "      <td>Loaded Language, Smears</td>\n",
              "      <td>PA WHAT'S IRONY MEAN?\\n\\nIRONY IS WHEN THE LIB...</td>\n",
              "      <td>764_image_batch_2.png</td>\n",
              "    </tr>\n",
              "    <tr>\n",
              "      <th>198</th>\n",
              "      <td>768_batch_2</td>\n",
              "      <td>Smears</td>\n",
              "      <td>Girlfriend Keeps Referring To Herself As 'Wife...</td>\n",
              "      <td>768_image_batch_2.png</td>\n",
              "    </tr>\n",
              "    <tr>\n",
              "      <th>199</th>\n",
              "      <td>769_batch_2</td>\n",
              "      <td>Name calling/Labeling</td>\n",
              "      <td>9 \"LEGAL VOTES\" LEFT TO BE COUNTED\\n</td>\n",
              "      <td>769_image_batch_2.png</td>\n",
              "    </tr>\n",
              "  </tbody>\n",
              "</table>\n",
              "<p>200 rows × 4 columns</p>\n",
              "</div>\n",
              "    <div class=\"colab-df-buttons\">\n",
              "\n",
              "  <div class=\"colab-df-container\">\n",
              "    <button class=\"colab-df-convert\" onclick=\"convertToInteractive('df-862f2a8e-256d-485b-a7e1-6ac23b77def4')\"\n",
              "            title=\"Convert this dataframe to an interactive table.\"\n",
              "            style=\"display:none;\">\n",
              "\n",
              "  <svg xmlns=\"http://www.w3.org/2000/svg\" height=\"24px\" viewBox=\"0 -960 960 960\">\n",
              "    <path d=\"M120-120v-720h720v720H120Zm60-500h600v-160H180v160Zm220 220h160v-160H400v160Zm0 220h160v-160H400v160ZM180-400h160v-160H180v160Zm440 0h160v-160H620v160ZM180-180h160v-160H180v160Zm440 0h160v-160H620v160Z\"/>\n",
              "  </svg>\n",
              "    </button>\n",
              "\n",
              "  <style>\n",
              "    .colab-df-container {\n",
              "      display:flex;\n",
              "      gap: 12px;\n",
              "    }\n",
              "\n",
              "    .colab-df-convert {\n",
              "      background-color: #E8F0FE;\n",
              "      border: none;\n",
              "      border-radius: 50%;\n",
              "      cursor: pointer;\n",
              "      display: none;\n",
              "      fill: #1967D2;\n",
              "      height: 32px;\n",
              "      padding: 0 0 0 0;\n",
              "      width: 32px;\n",
              "    }\n",
              "\n",
              "    .colab-df-convert:hover {\n",
              "      background-color: #E2EBFA;\n",
              "      box-shadow: 0px 1px 2px rgba(60, 64, 67, 0.3), 0px 1px 3px 1px rgba(60, 64, 67, 0.15);\n",
              "      fill: #174EA6;\n",
              "    }\n",
              "\n",
              "    .colab-df-buttons div {\n",
              "      margin-bottom: 4px;\n",
              "    }\n",
              "\n",
              "    [theme=dark] .colab-df-convert {\n",
              "      background-color: #3B4455;\n",
              "      fill: #D2E3FC;\n",
              "    }\n",
              "\n",
              "    [theme=dark] .colab-df-convert:hover {\n",
              "      background-color: #434B5C;\n",
              "      box-shadow: 0px 1px 3px 1px rgba(0, 0, 0, 0.15);\n",
              "      filter: drop-shadow(0px 1px 2px rgba(0, 0, 0, 0.3));\n",
              "      fill: #FFFFFF;\n",
              "    }\n",
              "  </style>\n",
              "\n",
              "    <script>\n",
              "      const buttonEl =\n",
              "        document.querySelector('#df-862f2a8e-256d-485b-a7e1-6ac23b77def4 button.colab-df-convert');\n",
              "      buttonEl.style.display =\n",
              "        google.colab.kernel.accessAllowed ? 'block' : 'none';\n",
              "\n",
              "      async function convertToInteractive(key) {\n",
              "        const element = document.querySelector('#df-862f2a8e-256d-485b-a7e1-6ac23b77def4');\n",
              "        const dataTable =\n",
              "          await google.colab.kernel.invokeFunction('convertToInteractive',\n",
              "                                                    [key], {});\n",
              "        if (!dataTable) return;\n",
              "\n",
              "        const docLinkHtml = 'Like what you see? Visit the ' +\n",
              "          '<a target=\"_blank\" href=https://colab.research.google.com/notebooks/data_table.ipynb>data table notebook</a>'\n",
              "          + ' to learn more about interactive tables.';\n",
              "        element.innerHTML = '';\n",
              "        dataTable['output_type'] = 'display_data';\n",
              "        await google.colab.output.renderOutput(dataTable, element);\n",
              "        const docLink = document.createElement('div');\n",
              "        docLink.innerHTML = docLinkHtml;\n",
              "        element.appendChild(docLink);\n",
              "      }\n",
              "    </script>\n",
              "  </div>\n",
              "\n",
              "\n",
              "<div id=\"df-38439409-773d-4b7b-87e3-292315225ecc\">\n",
              "  <button class=\"colab-df-quickchart\" onclick=\"quickchart('df-38439409-773d-4b7b-87e3-292315225ecc')\"\n",
              "            title=\"Suggest charts\"\n",
              "            style=\"display:none;\">\n",
              "\n",
              "<svg xmlns=\"http://www.w3.org/2000/svg\" height=\"24px\"viewBox=\"0 0 24 24\"\n",
              "     width=\"24px\">\n",
              "    <g>\n",
              "        <path d=\"M19 3H5c-1.1 0-2 .9-2 2v14c0 1.1.9 2 2 2h14c1.1 0 2-.9 2-2V5c0-1.1-.9-2-2-2zM9 17H7v-7h2v7zm4 0h-2V7h2v10zm4 0h-2v-4h2v4z\"/>\n",
              "    </g>\n",
              "</svg>\n",
              "  </button>\n",
              "\n",
              "<style>\n",
              "  .colab-df-quickchart {\n",
              "      --bg-color: #E8F0FE;\n",
              "      --fill-color: #1967D2;\n",
              "      --hover-bg-color: #E2EBFA;\n",
              "      --hover-fill-color: #174EA6;\n",
              "      --disabled-fill-color: #AAA;\n",
              "      --disabled-bg-color: #DDD;\n",
              "  }\n",
              "\n",
              "  [theme=dark] .colab-df-quickchart {\n",
              "      --bg-color: #3B4455;\n",
              "      --fill-color: #D2E3FC;\n",
              "      --hover-bg-color: #434B5C;\n",
              "      --hover-fill-color: #FFFFFF;\n",
              "      --disabled-bg-color: #3B4455;\n",
              "      --disabled-fill-color: #666;\n",
              "  }\n",
              "\n",
              "  .colab-df-quickchart {\n",
              "    background-color: var(--bg-color);\n",
              "    border: none;\n",
              "    border-radius: 50%;\n",
              "    cursor: pointer;\n",
              "    display: none;\n",
              "    fill: var(--fill-color);\n",
              "    height: 32px;\n",
              "    padding: 0;\n",
              "    width: 32px;\n",
              "  }\n",
              "\n",
              "  .colab-df-quickchart:hover {\n",
              "    background-color: var(--hover-bg-color);\n",
              "    box-shadow: 0 1px 2px rgba(60, 64, 67, 0.3), 0 1px 3px 1px rgba(60, 64, 67, 0.15);\n",
              "    fill: var(--button-hover-fill-color);\n",
              "  }\n",
              "\n",
              "  .colab-df-quickchart-complete:disabled,\n",
              "  .colab-df-quickchart-complete:disabled:hover {\n",
              "    background-color: var(--disabled-bg-color);\n",
              "    fill: var(--disabled-fill-color);\n",
              "    box-shadow: none;\n",
              "  }\n",
              "\n",
              "  .colab-df-spinner {\n",
              "    border: 2px solid var(--fill-color);\n",
              "    border-color: transparent;\n",
              "    border-bottom-color: var(--fill-color);\n",
              "    animation:\n",
              "      spin 1s steps(1) infinite;\n",
              "  }\n",
              "\n",
              "  @keyframes spin {\n",
              "    0% {\n",
              "      border-color: transparent;\n",
              "      border-bottom-color: var(--fill-color);\n",
              "      border-left-color: var(--fill-color);\n",
              "    }\n",
              "    20% {\n",
              "      border-color: transparent;\n",
              "      border-left-color: var(--fill-color);\n",
              "      border-top-color: var(--fill-color);\n",
              "    }\n",
              "    30% {\n",
              "      border-color: transparent;\n",
              "      border-left-color: var(--fill-color);\n",
              "      border-top-color: var(--fill-color);\n",
              "      border-right-color: var(--fill-color);\n",
              "    }\n",
              "    40% {\n",
              "      border-color: transparent;\n",
              "      border-right-color: var(--fill-color);\n",
              "      border-top-color: var(--fill-color);\n",
              "    }\n",
              "    60% {\n",
              "      border-color: transparent;\n",
              "      border-right-color: var(--fill-color);\n",
              "    }\n",
              "    80% {\n",
              "      border-color: transparent;\n",
              "      border-right-color: var(--fill-color);\n",
              "      border-bottom-color: var(--fill-color);\n",
              "    }\n",
              "    90% {\n",
              "      border-color: transparent;\n",
              "      border-bottom-color: var(--fill-color);\n",
              "    }\n",
              "  }\n",
              "</style>\n",
              "\n",
              "  <script>\n",
              "    async function quickchart(key) {\n",
              "      const quickchartButtonEl =\n",
              "        document.querySelector('#' + key + ' button');\n",
              "      quickchartButtonEl.disabled = true;  // To prevent multiple clicks.\n",
              "      quickchartButtonEl.classList.add('colab-df-spinner');\n",
              "      try {\n",
              "        const charts = await google.colab.kernel.invokeFunction(\n",
              "            'suggestCharts', [key], {});\n",
              "      } catch (error) {\n",
              "        console.error('Error during call to suggestCharts:', error);\n",
              "      }\n",
              "      quickchartButtonEl.classList.remove('colab-df-spinner');\n",
              "      quickchartButtonEl.classList.add('colab-df-quickchart-complete');\n",
              "    }\n",
              "    (() => {\n",
              "      let quickchartButtonEl =\n",
              "        document.querySelector('#df-38439409-773d-4b7b-87e3-292315225ecc button');\n",
              "      quickchartButtonEl.style.display =\n",
              "        google.colab.kernel.accessAllowed ? 'block' : 'none';\n",
              "    })();\n",
              "  </script>\n",
              "</div>\n",
              "\n",
              "  <div id=\"id_e1d445e1-fbc9-4b7f-af1d-216b5e5788a0\">\n",
              "    <style>\n",
              "      .colab-df-generate {\n",
              "        background-color: #E8F0FE;\n",
              "        border: none;\n",
              "        border-radius: 50%;\n",
              "        cursor: pointer;\n",
              "        display: none;\n",
              "        fill: #1967D2;\n",
              "        height: 32px;\n",
              "        padding: 0 0 0 0;\n",
              "        width: 32px;\n",
              "      }\n",
              "\n",
              "      .colab-df-generate:hover {\n",
              "        background-color: #E2EBFA;\n",
              "        box-shadow: 0px 1px 2px rgba(60, 64, 67, 0.3), 0px 1px 3px 1px rgba(60, 64, 67, 0.15);\n",
              "        fill: #174EA6;\n",
              "      }\n",
              "\n",
              "      [theme=dark] .colab-df-generate {\n",
              "        background-color: #3B4455;\n",
              "        fill: #D2E3FC;\n",
              "      }\n",
              "\n",
              "      [theme=dark] .colab-df-generate:hover {\n",
              "        background-color: #434B5C;\n",
              "        box-shadow: 0px 1px 3px 1px rgba(0, 0, 0, 0.15);\n",
              "        filter: drop-shadow(0px 1px 2px rgba(0, 0, 0, 0.3));\n",
              "        fill: #FFFFFF;\n",
              "      }\n",
              "    </style>\n",
              "    <button class=\"colab-df-generate\" onclick=\"generateWithVariable('test_df')\"\n",
              "            title=\"Generate code using this dataframe.\"\n",
              "            style=\"display:none;\">\n",
              "\n",
              "  <svg xmlns=\"http://www.w3.org/2000/svg\" height=\"24px\"viewBox=\"0 0 24 24\"\n",
              "       width=\"24px\">\n",
              "    <path d=\"M7,19H8.4L18.45,9,17,7.55,7,17.6ZM5,21V16.75L18.45,3.32a2,2,0,0,1,2.83,0l1.4,1.43a1.91,1.91,0,0,1,.58,1.4,1.91,1.91,0,0,1-.58,1.4L9.25,21ZM18.45,9,17,7.55Zm-12,3A5.31,5.31,0,0,0,4.9,8.1,5.31,5.31,0,0,0,1,6.5,5.31,5.31,0,0,0,4.9,4.9,5.31,5.31,0,0,0,6.5,1,5.31,5.31,0,0,0,8.1,4.9,5.31,5.31,0,0,0,12,6.5,5.46,5.46,0,0,0,6.5,12Z\"/>\n",
              "  </svg>\n",
              "    </button>\n",
              "    <script>\n",
              "      (() => {\n",
              "      const buttonEl =\n",
              "        document.querySelector('#id_e1d445e1-fbc9-4b7f-af1d-216b5e5788a0 button.colab-df-generate');\n",
              "      buttonEl.style.display =\n",
              "        google.colab.kernel.accessAllowed ? 'block' : 'none';\n",
              "\n",
              "      buttonEl.onclick = () => {\n",
              "        google.colab.notebook.generateWithVariable('test_df');\n",
              "      }\n",
              "      })();\n",
              "    </script>\n",
              "  </div>\n",
              "\n",
              "    </div>\n",
              "  </div>\n"
            ],
            "application/vnd.google.colaboratory.intrinsic+json": {
              "type": "dataframe",
              "variable_name": "test_df",
              "summary": "{\n  \"name\": \"test_df\",\n  \"rows\": 200,\n  \"fields\": [\n    {\n      \"column\": \"id\",\n      \"properties\": {\n        \"dtype\": \"string\",\n        \"num_unique_values\": 200,\n        \"samples\": [\n          \"901_batch_2\",\n          \"736_batch_2\",\n          \"767_batch_2\"\n        ],\n        \"semantic_type\": \"\",\n        \"description\": \"\"\n      }\n    },\n    {\n      \"column\": \"labels\",\n      \"properties\": {\n        \"dtype\": \"string\",\n        \"num_unique_values\": 122,\n        \"samples\": [\n          \"Appeal to fear/prejudice, Loaded Language, Name calling/Labeling, Smears\",\n          \"Glittering generalities (Virtue), Loaded Language, Name calling/Labeling\",\n          \"Loaded Language, Whataboutism\"\n        ],\n        \"semantic_type\": \"\",\n        \"description\": \"\"\n      }\n    },\n    {\n      \"column\": \"text\",\n      \"properties\": {\n        \"dtype\": \"string\",\n        \"num_unique_values\": 200,\n        \"samples\": [\n          \"HEY YOU GUYSSSS!\\n\\nI CAN TRAVEL NOW\\nTHE VACCINE WASN'T EVEN THAT BAD\",\n          \"By Bullet or Ballot\\nRestoration Of The Republic Is Coming !\",\n          \"AMERICA WAS NEVER THAT GREAT\\n\\nCAN YOU REPEAT THAT YOU PIECE OF SHIT\"\n        ],\n        \"semantic_type\": \"\",\n        \"description\": \"\"\n      }\n    },\n    {\n      \"column\": \"image\",\n      \"properties\": {\n        \"dtype\": \"string\",\n        \"num_unique_values\": 200,\n        \"samples\": [\n          \"901_image_batch_2.png\",\n          \"736_image_batch_2.png\",\n          \"767_image_batch_2.png\"\n        ],\n        \"semantic_type\": \"\",\n        \"description\": \"\"\n      }\n    }\n  ]\n}"
            }
          },
          "metadata": {},
          "execution_count": 5
        }
      ],
      "source": [
        "test_df"
      ]
    },
    {
      "cell_type": "code",
      "execution_count": null,
      "metadata": {
        "colab": {
          "base_uri": "https://localhost:8080/"
        },
        "id": "jiRtHIQZPLYb",
        "outputId": "8dc9d14f-edb8-4b8f-c958-fe757efc54b7"
      },
      "outputs": [
        {
          "output_type": "execute_result",
          "data": {
            "text/plain": [
              "labels\n",
              "Doubt, Loaded Language                                                                  9\n",
              "Doubt                                                                                   9\n",
              "Smears                                                                                  9\n",
              "Exaggeration/Minimisation, Smears                                                       8\n",
              "Loaded Language, Name calling/Labeling, Smears                                          6\n",
              "                                                                                       ..\n",
              "Appeal to (Strong) Emotions, Repetition, Slogans, Transfer                              1\n",
              "Glittering generalities (Virtue), Loaded Language, Name calling/Labeling                1\n",
              "Exaggeration/Minimisation, Glittering generalities (Virtue), Transfer                   1\n",
              "Doubt, Glittering generalities (Virtue), Loaded Language, Thought-terminating cliché    1\n",
              "Name calling/Labeling, Smears                                                           1\n",
              "Name: count, Length: 122, dtype: int64"
            ]
          },
          "metadata": {},
          "execution_count": 6
        }
      ],
      "source": [
        "test_df['labels'].value_counts()"
      ]
    },
    {
      "cell_type": "markdown",
      "metadata": {
        "id": "bd2zFD6dc_pP"
      },
      "source": [
        "Create a dictionary that contains lists of all of the labels then remove their values"
      ]
    },
    {
      "cell_type": "code",
      "execution_count": null,
      "metadata": {
        "id": "nMzYHANEKNip"
      },
      "outputs": [],
      "source": [
        "train_dictionary = {}\n",
        "for l in train_df['labels']:\n",
        "  l = str(l)\n",
        "  string = l.split(', ')\n",
        "  # Obfuscation, Intentional vagueness, Confusion\n",
        "  for s in string:\n",
        "    if (s == \"Intentional vagueness\" or s == \"Obfuscation\" or s == \"Confusion\" ):\n",
        "      train_dictionary[s] = train_dictionary.get(\"Obfuscation, Intentional vagueness, Confusion\", 0) + 1\n",
        "    else:\n",
        "      train_dictionary[s] = train_dictionary.get(s, 0) + 1"
      ]
    },
    {
      "cell_type": "code",
      "execution_count": null,
      "metadata": {
        "id": "SXQZSApsP__E"
      },
      "outputs": [],
      "source": [
        "test_dictionary = {}\n",
        "for l in test_df['labels']:\n",
        "  l = str(l)\n",
        "  string = l.split(', ')\n",
        "  for s in string:\n",
        "    test_dictionary[s] = test_dictionary.get(s, 0) + 1"
      ]
    },
    {
      "cell_type": "markdown",
      "metadata": {
        "id": "ALdezy9WiCGm"
      },
      "source": [
        "Print a list of names of unique labels."
      ]
    },
    {
      "cell_type": "code",
      "execution_count": null,
      "metadata": {
        "colab": {
          "base_uri": "https://localhost:8080/"
        },
        "id": "L991-7btNxWg",
        "outputId": "bc3b4b4e-72b0-4afd-f58d-cd52feff4b94"
      },
      "outputs": [
        {
          "output_type": "stream",
          "name": "stdout",
          "text": [
            "['Black-and-white Fallacy/Dictatorship', 'Name calling/Labeling', 'Smears', 'Reductio ad hitlerum', 'Transfer', 'Appeal to fear/prejudice', 'Loaded Language', 'Slogans', 'Causal Oversimplification', 'Glittering generalities (Virtue)', 'Flag-waving', \"Misrepresentation of Someone's Position (Straw Man)\", 'Exaggeration/Minimisation', 'Repetition', 'Appeal to (Strong) Emotions', 'Doubt', 'Obfuscation', 'Intentional vagueness', 'Confusion', 'Whataboutism', 'Thought-terminating cliché', 'Presenting Irrelevant Data (Red Herring)', 'Appeal to authority', 'Bandwagon', 'nan']\n"
          ]
        }
      ],
      "source": [
        "y_train_actual = list(train_dictionary.keys())\n",
        "print(y_train_actual)"
      ]
    },
    {
      "cell_type": "code",
      "execution_count": null,
      "metadata": {
        "colab": {
          "base_uri": "https://localhost:8080/"
        },
        "id": "BSbhHBbY-zc1",
        "outputId": "c14ef851-75f7-48a9-9949-67ebecc298f5"
      },
      "outputs": [
        {
          "output_type": "execute_result",
          "data": {
            "text/plain": [
              "['Black-and-white Fallacy/Dictatorship',\n",
              " 'Name calling/Labeling',\n",
              " 'Smears',\n",
              " 'Reductio ad hitlerum',\n",
              " 'Transfer',\n",
              " 'Appeal to fear/prejudice',\n",
              " 'Loaded Language',\n",
              " 'Slogans',\n",
              " 'Causal Oversimplification',\n",
              " 'Glittering generalities (Virtue)',\n",
              " 'Flag-waving',\n",
              " \"Misrepresentation of Someone's Position (Straw Man)\",\n",
              " 'Exaggeration/Minimisation',\n",
              " 'Repetition',\n",
              " 'Appeal to (Strong) Emotions',\n",
              " 'Doubt',\n",
              " 'Obfuscation',\n",
              " 'Intentional vagueness',\n",
              " 'Confusion',\n",
              " 'Whataboutism',\n",
              " 'Thought-terminating cliché',\n",
              " 'Presenting Irrelevant Data (Red Herring)',\n",
              " 'Appeal to authority',\n",
              " 'Bandwagon',\n",
              " 'nan']"
            ]
          },
          "metadata": {},
          "execution_count": 10
        }
      ],
      "source": [
        "y_train_actual"
      ]
    },
    {
      "cell_type": "code",
      "execution_count": null,
      "metadata": {
        "colab": {
          "base_uri": "https://localhost:8080/"
        },
        "id": "fUEhMWuMQPpd",
        "outputId": "488aee78-7888-46fa-b9a8-a42e2fb74219"
      },
      "outputs": [
        {
          "output_type": "stream",
          "name": "stdout",
          "text": [
            "['Black-and-white Fallacy/Dictatorship', 'Name calling/Labeling', 'Smears', 'Reductio ad hitlerum', 'Transfer', 'Appeal to fear/prejudice', 'Loaded Language', 'Slogans', 'Causal Oversimplification', 'Glittering generalities (Virtue)', 'Flag-waving', \"Misrepresentation of Someone's Position (Straw Man)\", 'Exaggeration/Minimisation', 'Repetition', 'Appeal to (Strong) Emotions', 'Doubt', 'Obfuscation', 'Intentional vagueness', 'Confusion', 'Whataboutism', 'Thought-terminating cliché', 'Presenting Irrelevant Data (Red Herring)', 'Appeal to authority', 'Bandwagon', 'nan']\n"
          ]
        }
      ],
      "source": [
        "y_test_actual = list(train_dictionary.keys())\n",
        "print(y_test_actual)"
      ]
    },
    {
      "cell_type": "markdown",
      "metadata": {
        "id": "RtMKAvhI55Uv"
      },
      "source": [
        "Begin preprocessing labels."
      ]
    },
    {
      "cell_type": "code",
      "execution_count": null,
      "metadata": {
        "id": "HYN57bIAPMiW"
      },
      "outputs": [],
      "source": [
        "for i, l in enumerate(train_df['labels']):\n",
        "  l = str(l)\n",
        "  if l == 'nan':\n",
        "    train_df.loc[i, 'labels'] = 'nan'"
      ]
    },
    {
      "cell_type": "code",
      "execution_count": null,
      "metadata": {
        "id": "wkTeGzo7Qbfn"
      },
      "outputs": [],
      "source": [
        "for i, l in enumerate(test_df['labels']):\n",
        "  l = str(l)\n",
        "  if l == 'nan':\n",
        "    test_df.loc[i, 'labels'] = 'nan'"
      ]
    },
    {
      "cell_type": "code",
      "execution_count": null,
      "metadata": {
        "id": "9dVl7MDBNeAX"
      },
      "outputs": [],
      "source": [
        "npy_y_train = []\n",
        "for l in train_df['labels']:\n",
        "  l = str(l)\n",
        "  arr = [0] * 24\n",
        "  if l == 'nan':\n",
        "    npy_y_train.append(arr)\n",
        "    continue\n",
        "  string = l.split(', ')\n",
        "  for s in string:\n",
        "    x = y_train_actual.index(s)\n",
        "    arr[x] = 1\n",
        "  npy_y_train.append(arr)"
      ]
    },
    {
      "cell_type": "code",
      "execution_count": null,
      "metadata": {
        "id": "HmgE6HgkQj93"
      },
      "outputs": [],
      "source": [
        "npy_y_test = []\n",
        "for l in test_df['labels']:\n",
        "  l = str(l)\n",
        "  arr = [0] * 24\n",
        "  if l == 'nan':\n",
        "    npy_y_test.append(arr)\n",
        "    continue\n",
        "  string = l.split(', ')\n",
        "  for s in string:\n",
        "    x = y_test_actual.index(s)\n",
        "    arr[x] = 1\n",
        "  npy_y_test.append(arr)"
      ]
    },
    {
      "cell_type": "code",
      "execution_count": null,
      "metadata": {
        "colab": {
          "base_uri": "https://localhost:8080/"
        },
        "id": "BEnkBP8UP4_x",
        "outputId": "f0d8f1ed-3b8b-43fa-90e7-7a508291dba0"
      },
      "outputs": [
        {
          "output_type": "execute_result",
          "data": {
            "text/plain": [
              "687"
            ]
          },
          "metadata": {},
          "execution_count": 16
        }
      ],
      "source": [
        "len(npy_y_train)"
      ]
    },
    {
      "cell_type": "code",
      "execution_count": null,
      "metadata": {
        "colab": {
          "base_uri": "https://localhost:8080/"
        },
        "id": "hZjl2JSNQ5Dp",
        "outputId": "4e48778c-5975-428b-d394-3f6254159e27"
      },
      "outputs": [
        {
          "output_type": "execute_result",
          "data": {
            "text/plain": [
              "200"
            ]
          },
          "metadata": {},
          "execution_count": 17
        }
      ],
      "source": [
        "len(npy_y_test)"
      ]
    },
    {
      "cell_type": "code",
      "execution_count": null,
      "metadata": {
        "id": "OD_RETWjOsrq"
      },
      "outputs": [],
      "source": [
        "import numpy as np\n",
        "\n",
        "np.save('train_labels.npy', npy_y_train)\n",
        "np.save('test_labels.npy', npy_y_test)"
      ]
    },
    {
      "cell_type": "code",
      "execution_count": null,
      "metadata": {
        "colab": {
          "base_uri": "https://localhost:8080/"
        },
        "id": "v87zYnhjNQiI",
        "outputId": "079adf25-2dd1-4d0f-c5bf-d44b9431c8de"
      },
      "outputs": [
        {
          "output_type": "execute_result",
          "data": {
            "text/plain": [
              "{'Black-and-white Fallacy/Dictatorship': 19,\n",
              " 'Name calling/Labeling': 252,\n",
              " 'Smears': 450,\n",
              " 'Reductio ad hitlerum': 15,\n",
              " 'Transfer': 61,\n",
              " 'Appeal to fear/prejudice': 66,\n",
              " 'Loaded Language': 360,\n",
              " 'Slogans': 45,\n",
              " 'Causal Oversimplification': 31,\n",
              " 'Glittering generalities (Virtue)': 84,\n",
              " 'Flag-waving': 36,\n",
              " \"Misrepresentation of Someone's Position (Straw Man)\": 32,\n",
              " 'Exaggeration/Minimisation': 60,\n",
              " 'Repetition': 10,\n",
              " 'Appeal to (Strong) Emotions': 68,\n",
              " 'Doubt': 61,\n",
              " 'Obfuscation': 1,\n",
              " 'Intentional vagueness': 1,\n",
              " 'Confusion': 1,\n",
              " 'Whataboutism': 47,\n",
              " 'Thought-terminating cliché': 20,\n",
              " 'Presenting Irrelevant Data (Red Herring)': 2,\n",
              " 'Appeal to authority': 19,\n",
              " 'Bandwagon': 2,\n",
              " 'nan': 29}"
            ]
          },
          "metadata": {},
          "execution_count": 19
        }
      ],
      "source": [
        "train_dictionary"
      ]
    },
    {
      "cell_type": "code",
      "execution_count": null,
      "metadata": {
        "colab": {
          "base_uri": "https://localhost:8080/"
        },
        "id": "xI696toBRFix",
        "outputId": "cddf23ba-3036-4436-baac-f1c57d0b0162"
      },
      "outputs": [
        {
          "output_type": "execute_result",
          "data": {
            "text/plain": [
              "{'Name calling/Labeling': 65,\n",
              " 'Slogans': 22,\n",
              " 'Smears': 105,\n",
              " 'Transfer': 23,\n",
              " 'Appeal to (Strong) Emotions': 19,\n",
              " 'Appeal to fear/prejudice': 18,\n",
              " 'Loaded Language': 100,\n",
              " 'Doubt': 41,\n",
              " 'Exaggeration/Minimisation': 31,\n",
              " 'Whataboutism': 14,\n",
              " 'Reductio ad hitlerum': 7,\n",
              " 'Obfuscation': 2,\n",
              " 'Intentional vagueness': 2,\n",
              " 'Confusion': 2,\n",
              " 'Glittering generalities (Virtue)': 24,\n",
              " 'Black-and-white Fallacy/Dictatorship': 7,\n",
              " 'Flag-waving': 12,\n",
              " 'Presenting Irrelevant Data (Red Herring)': 5,\n",
              " 'Appeal to authority': 13,\n",
              " 'Thought-terminating cliché': 6,\n",
              " 'Repetition': 1,\n",
              " \"Misrepresentation of Someone's Position (Straw Man)\": 3,\n",
              " 'Causal Oversimplification': 4,\n",
              " 'Bandwagon': 1,\n",
              " 'nan': 4}"
            ]
          },
          "metadata": {},
          "execution_count": 20
        }
      ],
      "source": [
        "test_dictionary"
      ]
    },
    {
      "cell_type": "code",
      "execution_count": null,
      "metadata": {
        "colab": {
          "base_uri": "https://localhost:8080/"
        },
        "id": "tgATFPXzNTne",
        "outputId": "d1f6bf5f-bd22-47ec-c294-0b266b639bf4"
      },
      "outputs": [
        {
          "output_type": "execute_result",
          "data": {
            "text/plain": [
              "25"
            ]
          },
          "metadata": {},
          "execution_count": 22
        }
      ],
      "source": [
        "len(train_dictionary)"
      ]
    },
    {
      "cell_type": "code",
      "execution_count": null,
      "metadata": {
        "colab": {
          "base_uri": "https://localhost:8080/"
        },
        "id": "wfd-JSKZRLhU",
        "outputId": "9d0e4671-43df-4881-a865-c753d7c97ab2"
      },
      "outputs": [
        {
          "output_type": "execute_result",
          "data": {
            "text/plain": [
              "25"
            ]
          },
          "metadata": {},
          "execution_count": 23
        }
      ],
      "source": [
        "len(test_dictionary)"
      ]
    },
    {
      "cell_type": "markdown",
      "metadata": {
        "id": "CFJAuMtHi-z-"
      },
      "source": [
        "Length of total number of unique labels."
      ]
    },
    {
      "cell_type": "markdown",
      "metadata": {
        "id": "l7YyPTL2i4p2"
      },
      "source": [
        "Length of total amount of images inside of the dataframe."
      ]
    },
    {
      "cell_type": "code",
      "execution_count": null,
      "metadata": {
        "colab": {
          "base_uri": "https://localhost:8080/"
        },
        "id": "lgPLXVXGcBfb",
        "outputId": "c95452a0-621a-4ac8-96f9-226a91205329"
      },
      "outputs": [
        {
          "output_type": "execute_result",
          "data": {
            "text/plain": [
              "687"
            ]
          },
          "metadata": {},
          "execution_count": 24
        }
      ],
      "source": [
        "len(train_df)"
      ]
    },
    {
      "cell_type": "code",
      "execution_count": null,
      "metadata": {
        "colab": {
          "base_uri": "https://localhost:8080/"
        },
        "id": "ULyZRe5dRO6C",
        "outputId": "c474356e-872e-466e-d08e-65dde34387c9"
      },
      "outputs": [
        {
          "output_type": "execute_result",
          "data": {
            "text/plain": [
              "200"
            ]
          },
          "metadata": {},
          "execution_count": 25
        }
      ],
      "source": [
        "len(test_df)"
      ]
    },
    {
      "cell_type": "code",
      "execution_count": null,
      "metadata": {
        "id": "ENjcRiejPz2N"
      },
      "outputs": [],
      "source": [
        "train_dictionary = {}\n",
        "for l in train_df['labels']:\n",
        "  l = str(l)\n",
        "  string = l.split(', ')\n",
        "  for s in string:\n",
        "    train_dictionary[s] = train_dictionary.get(s, 0) + 1"
      ]
    },
    {
      "cell_type": "code",
      "execution_count": null,
      "metadata": {
        "id": "INE8K_0xRTzc"
      },
      "outputs": [],
      "source": [
        "test_dictionary = {}\n",
        "for l in test_df['labels']:\n",
        "  l = str(l)\n",
        "  string = l.split(', ')\n",
        "  for s in string:\n",
        "    test_dictionary[s] = test_dictionary.get(s, 0) + 1"
      ]
    },
    {
      "cell_type": "code",
      "execution_count": null,
      "metadata": {
        "id": "YSEIVbMeTqRg"
      },
      "outputs": [],
      "source": [
        "hello = []\n",
        "whole_dir = '/content/drive/MyDrive/training_set_task3'\n",
        "for im in train_df['image']:\n",
        "  if str(im) == 'nan':\n",
        "    print('nan')\n",
        "  hello.append(f'{whole_dir}/{im}')"
      ]
    },
    {
      "cell_type": "code",
      "execution_count": null,
      "metadata": {
        "id": "OnuzQeaSReIZ"
      },
      "outputs": [],
      "source": [
        "bye = []\n",
        "whole_dir = '/content/drive/MyDrive/test_set_task3'\n",
        "for im in test_df['image']:\n",
        "  if str(im) == 'nan':\n",
        "    print('nan')\n",
        "  bye.append(f'{whole_dir}/{im}')"
      ]
    },
    {
      "cell_type": "code",
      "execution_count": null,
      "metadata": {
        "colab": {
          "base_uri": "https://localhost:8080/"
        },
        "id": "DE68axa7cGhr",
        "outputId": "60e8678a-7498-4c55-ff28-699a9a479a71"
      },
      "outputs": [
        {
          "output_type": "execute_result",
          "data": {
            "text/plain": [
              "687"
            ]
          },
          "metadata": {},
          "execution_count": 30
        }
      ],
      "source": [
        "len(hello)"
      ]
    },
    {
      "cell_type": "code",
      "execution_count": null,
      "metadata": {
        "colab": {
          "base_uri": "https://localhost:8080/"
        },
        "id": "Fj-zEyGtRmvT",
        "outputId": "4f32b01d-b8ee-4961-fb35-f0c583f61aff"
      },
      "outputs": [
        {
          "output_type": "execute_result",
          "data": {
            "text/plain": [
              "200"
            ]
          },
          "metadata": {},
          "execution_count": 31
        }
      ],
      "source": [
        "len(bye)"
      ]
    },
    {
      "cell_type": "markdown",
      "metadata": {
        "id": "iFco1FfAieIA"
      },
      "source": [
        "Begin preprocessing images.\n",
        "\n",
        "Resize all images to become the same size and store the pixels into npy file."
      ]
    },
    {
      "cell_type": "code",
      "execution_count": null,
      "metadata": {
        "id": "oTPumAg0X7mu"
      },
      "outputs": [],
      "source": [
        "from PIL import Image\n",
        "import numpy as np\n",
        "\n",
        "X = []\n",
        "for h in hello:\n",
        "  img = Image.open(h)\n",
        "  img = img.resize((256, 256))\n",
        "  num_arr = np.array(img).tolist()\n",
        "  X.append(num_arr)\n",
        "\n",
        "Y = []\n",
        "for  b in bye:\n",
        "  img = Image.open(h)\n",
        "  img = img.resize((256, 256))\n",
        "  num_arr = np.array(img).tolist()\n",
        "  Y.append(num_arr)"
      ]
    },
    {
      "cell_type": "code",
      "execution_count": null,
      "metadata": {
        "colab": {
          "base_uri": "https://localhost:8080/"
        },
        "id": "mnSgYKb0Zt9M",
        "outputId": "37594d8d-b552-40f2-fd6d-d25119d57ae9"
      },
      "outputs": [
        {
          "output_type": "execute_result",
          "data": {
            "text/plain": [
              "687"
            ]
          },
          "metadata": {},
          "execution_count": 33
        }
      ],
      "source": [
        "len(X)"
      ]
    },
    {
      "cell_type": "code",
      "execution_count": null,
      "metadata": {
        "colab": {
          "base_uri": "https://localhost:8080/"
        },
        "id": "5su_CVdASVKj",
        "outputId": "5041f818-e903-464c-c1ba-1e16ff0a18bc"
      },
      "outputs": [
        {
          "output_type": "execute_result",
          "data": {
            "text/plain": [
              "200"
            ]
          },
          "metadata": {},
          "execution_count": 34
        }
      ],
      "source": [
        "len(Y)"
      ]
    },
    {
      "cell_type": "markdown",
      "metadata": {
        "id": "tMKMi6VeiTWK"
      },
      "source": [
        "After the images are converted into pixels, same the npy file for both testing and training files."
      ]
    },
    {
      "cell_type": "code",
      "execution_count": null,
      "metadata": {
        "id": "EKbrHOO3crmX"
      },
      "outputs": [],
      "source": [
        "np.save('train_img.npy', X)\n",
        "np.save('test_img.npy', Y)"
      ]
    },
    {
      "cell_type": "markdown",
      "metadata": {
        "id": "G7ylaBY_7RYj"
      },
      "source": [
        "Begin transfer learning using ResNet18.\n",
        "\n",
        "> Add blockquote\n",
        "\n"
      ]
    },
    {
      "cell_type": "code",
      "execution_count": null,
      "metadata": {
        "id": "PTZ_QGIs-75h"
      },
      "outputs": [],
      "source": [
        "import torch\n",
        "import torch.nn as nn\n",
        "import torch.nn.functional as F\n",
        "\n",
        "from torch.utils.data import Dataset, DataLoader\n",
        "\n",
        "import torchvision\n",
        "from torchvision.models import resnet18, ResNet18_Weights\n",
        "\n",
        "from torch.optim import Adam, AdamW\n",
        "\n",
        "import numpy as np\n",
        "import os"
      ]
    },
    {
      "cell_type": "code",
      "execution_count": null,
      "metadata": {
        "id": "cMr3hAKG--1p"
      },
      "outputs": [],
      "source": [
        "device = 'cuda' if torch.cuda.is_available() else 'cpu'"
      ]
    },
    {
      "cell_type": "markdown",
      "metadata": {
        "id": "LbRHyBo5NPPp"
      },
      "source": [
        "(Requested files should already be in the Colab)"
      ]
    },
    {
      "cell_type": "code",
      "execution_count": null,
      "metadata": {
        "id": "LyWZB1VB_BBK"
      },
      "outputs": [],
      "source": [
        "X_train = np.load('train_img.npy')\n",
        "X_test = np.load('test_img.npy')\n",
        "X_train = X_train.astype(np.float32)\n",
        "X_test = X_test.astype(np.float32)\n",
        "X_train /= 255.0\n",
        "X_test /= 255.0\n",
        "\n",
        "y_train = np.load('train_labels.npy')\n",
        "y_test = np.load('test_labels.npy')"
      ]
    },
    {
      "cell_type": "code",
      "execution_count": null,
      "metadata": {
        "id": "hjvZ0sStD7Gl"
      },
      "outputs": [],
      "source": [
        "class Data(Dataset):\n",
        "    def __init__(self, images, labels):\n",
        "        self.length = len(labels)\n",
        "        self.images = images\n",
        "        self.labels = labels\n",
        "\n",
        "    def __len__(self):\n",
        "        return self.length\n",
        "\n",
        "    def __getitem__(self, idx):\n",
        "        image = torch.from_numpy(self.images[idx])\n",
        "        label = torch.from_numpy(self.labels[idx])\n",
        "\n",
        "        return image, label"
      ]
    },
    {
      "cell_type": "code",
      "execution_count": null,
      "metadata": {
        "id": "Q5F0BM4ND9QV"
      },
      "outputs": [],
      "source": [
        "pin_memory = True if device == 'cuda' else False\n",
        "\n",
        "train = Data(X_train, y_train)\n",
        "test = Data(X_test, y_test)\n",
        "\n",
        "train_dataloader = DataLoader(\n",
        "    train,\n",
        "    batch_size=4,\n",
        "    shuffle=True,\n",
        "    num_workers=1,\n",
        "    pin_memory=pin_memory\n",
        ")\n",
        "\n",
        "test_dataloader = DataLoader(\n",
        "    test,\n",
        "    batch_size=4,\n",
        "    shuffle=False,\n",
        "    num_workers=1,\n",
        "    pin_memory=pin_memory\n",
        ")"
      ]
    },
    {
      "cell_type": "code",
      "execution_count": null,
      "metadata": {
        "id": "uYtPFLq7D-ov"
      },
      "outputs": [],
      "source": [
        "class TransferLearn(nn.Module):\n",
        "    def __init__(self):\n",
        "        super(TransferLearn, self).__init__()\n",
        "\n",
        "        resnet = resnet18(weights=ResNet18_Weights.DEFAULT)\n",
        "        res = list(resnet.children())[:-1]\n",
        "        self.res = nn.Sequential(*res)\n",
        "        self.linear = nn.Linear(512, 24)\n",
        "        self.sigmoid = nn.Sigmoid()\n",
        "\n",
        "    def forward(self, x):\n",
        "        x = torch.permute(x, (0, 3, 1, 2))\n",
        "        x = self.res(x)\n",
        "        #print(x.shape)\n",
        "        x = torch.squeeze(x)\n",
        "        x = self.linear(x)\n",
        "        #print(x.shape, \"hello\")\n",
        "        x = self.sigmoid(x)\n",
        "\n",
        "        return x"
      ]
    },
    {
      "cell_type": "code",
      "execution_count": null,
      "metadata": {
        "colab": {
          "base_uri": "https://localhost:8080/"
        },
        "id": "pEmTpRX_D_-a",
        "outputId": "e931446b-377a-41cd-e908-be4f23ed0d39"
      },
      "outputs": [
        {
          "output_type": "stream",
          "name": "stderr",
          "text": [
            "Downloading: \"https://download.pytorch.org/models/resnet18-f37072fd.pth\" to /root/.cache/torch/hub/checkpoints/resnet18-f37072fd.pth\n",
            "100%|██████████| 44.7M/44.7M [00:00<00:00, 128MB/s]\n"
          ]
        }
      ],
      "source": [
        "model = TransferLearn().to(device)\n",
        "#print(model)"
      ]
    },
    {
      "cell_type": "code",
      "execution_count": null,
      "metadata": {
        "id": "FYBym5wNEBeT"
      },
      "outputs": [],
      "source": [
        "EPOCHS = 3\n",
        "\n",
        "# Binary Cross Entropy since it's a binary array as output\n",
        "loss_function = nn.BCELoss()\n",
        "optimizer = Adam(model.parameters())"
      ]
    },
    {
      "cell_type": "code",
      "execution_count": null,
      "metadata": {
        "colab": {
          "base_uri": "https://localhost:8080/"
        },
        "id": "_y1dFaoZNhvi",
        "outputId": "3aea226b-8222-4b34-e608-d584c7dc6f1f"
      },
      "outputs": [
        {
          "output_type": "stream",
          "name": "stderr",
          "text": [
            "/usr/lib/python3.10/multiprocessing/popen_fork.py:66: RuntimeWarning: os.fork() was called. os.fork() is incompatible with multithreaded code, and JAX is multithreaded, so this will likely lead to a deadlock.\n",
            "  self.pid = os.fork()\n"
          ]
        },
        {
          "output_type": "stream",
          "name": "stdout",
          "text": [
            "Training Loss: 0.265\n",
            "Validation Loss: 0.286\n",
            "\n",
            "Training Loss: 0.248\n",
            "Validation Loss: 0.286\n",
            "\n",
            "Training Loss: 0.249\n",
            "Validation Loss: 0.277\n",
            "\n"
          ]
        }
      ],
      "source": [
        "for epoch in range(EPOCHS):\n",
        "    train_loss_sum = 0\n",
        "    model.train()\n",
        "\n",
        "    # Training loop\n",
        "    for i, (x_actual, y_actual) in enumerate(train_dataloader, 1):\n",
        "        optimizer.zero_grad()\n",
        "        x_actual, y_actual = x_actual.to(device), y_actual.type(torch.float32).to(device)\n",
        "        y_pred = model(x_actual)\n",
        "        loss = loss_function(y_pred, y_actual)\n",
        "        train_loss_sum += loss.item()\n",
        "        loss.backward()\n",
        "        optimizer.step()\n",
        "\n",
        "    val_loss_sum = 0\n",
        "    model.eval()\n",
        "\n",
        "    # Check validation loss to see if it's overfitting\n",
        "    with torch.no_grad():\n",
        "        for j, (x_actual, y_actual) in enumerate(test_dataloader, 1):\n",
        "            x_actual, y_actual = x_actual.to(device), y_actual.type(torch.float32).to(device)\n",
        "            y_pred = model(x_actual)\n",
        "            loss = loss_function(y_pred, y_actual)\n",
        "            val_loss_sum += loss.item()\n",
        "\n",
        "\n",
        "    if epoch % 1 == 0:\n",
        "        avg_train_loss = round(train_loss_sum / i, 3)\n",
        "        avg_val_loss = round(val_loss_sum / j, 3)\n",
        "\n",
        "        print(f'Training Loss: {avg_train_loss}')\n",
        "        print(f'Validation Loss: {avg_val_loss}\\n')\n",
        "        folder_path = f'model/checkpoint-{epoch}'\n",
        "        os.makedirs(folder_path, exist_ok=True)\n",
        "        torch.save(model.state_dict(), f'{folder_path}/resnet18.pth')\n"
      ]
    },
    {
      "cell_type": "markdown",
      "metadata": {
        "id": "m51M9uT5NmxY"
      },
      "source": [
        "Inference."
      ]
    },
    {
      "cell_type": "code",
      "execution_count": null,
      "metadata": {
        "id": "fXmvoUkuNkIx"
      },
      "outputs": [],
      "source": [
        "class TransferLearn(nn.Module):\n",
        "    def __init__(self):\n",
        "        super(TransferLearn, self).__init__()\n",
        "\n",
        "        resnet = resnet18(weights=ResNet18_Weights.DEFAULT)\n",
        "        res = list(resnet.children())[:-1]\n",
        "        self.res = nn.Sequential(*res)\n",
        "        self.linear = nn.Linear(512, 24)\n",
        "        self.sigmoid = nn.Sigmoid()\n",
        "\n",
        "    def forward(self, x):\n",
        "        x = torch.permute(x, (0, 3, 1, 2))\n",
        "        x = self.res(x)\n",
        "        #print(x.shape)\n",
        "        x = torch.squeeze(x)\n",
        "        x = self.linear(x)\n",
        "        #print(x.shape, \"hello\")\n",
        "        x = self.sigmoid(x)\n",
        "\n",
        "        return x"
      ]
    },
    {
      "cell_type": "code",
      "execution_count": null,
      "metadata": {
        "colab": {
          "base_uri": "https://localhost:8080/"
        },
        "id": "k82ZXa7yNqSv",
        "outputId": "b0c085a8-f10a-4594-b936-53a5e7fcd7db"
      },
      "outputs": [
        {
          "output_type": "execute_result",
          "data": {
            "text/plain": [
              "<All keys matched successfully>"
            ]
          },
          "metadata": {},
          "execution_count": 46
        }
      ],
      "source": [
        "# Load model for inference\n",
        "checkpoint = 'model/checkpoint-2/resnet18.pth'\n",
        "res_inference = TransferLearn()\n",
        "res_inference.load_state_dict(torch.load(checkpoint))"
      ]
    },
    {
      "cell_type": "code",
      "execution_count": null,
      "metadata": {
        "id": "4WyAcauENtJh"
      },
      "outputs": [],
      "source": [
        "X_train = np.load('train_img.npy')\n",
        "X_test = np.load('test_img.npy')\n",
        "X_train = X_train.astype(np.float32)\n",
        "X_test = X_test.astype(np.float32)\n",
        "X_train /= 255.0\n",
        "X_test /= 255.0\n",
        "\n",
        "y_train = np.load('train_labels.npy')\n",
        "y_test = np.load('test_labels.npy')"
      ]
    },
    {
      "cell_type": "code",
      "execution_count": null,
      "metadata": {
        "id": "MzuPQnkcNtvv"
      },
      "outputs": [],
      "source": [
        "class Data(Dataset):\n",
        "    def __init__(self, images, labels):\n",
        "        self.length = len(labels)\n",
        "        self.images = images\n",
        "        self.labels = labels\n",
        "\n",
        "    def __len__(self):\n",
        "        return self.length\n",
        "\n",
        "    def __getitem__(self, idx):\n",
        "        image = torch.from_numpy(self.images[idx])\n",
        "        label = torch.from_numpy(self.labels[idx])\n",
        "\n",
        "        return image, label"
      ]
    },
    {
      "cell_type": "code",
      "execution_count": null,
      "metadata": {
        "id": "824ruuiqOFKh"
      },
      "outputs": [],
      "source": [
        "pin_memory = True if device == 'cuda' else False\n",
        "\n",
        "test = Data(X_test, y_test)\n",
        "\n",
        "test_dataloader = DataLoader(\n",
        "    test,\n",
        "    batch_size=1,\n",
        "    shuffle=False,\n",
        "    num_workers=1,\n",
        "    pin_memory=pin_memory\n",
        ")"
      ]
    },
    {
      "cell_type": "code",
      "execution_count": null,
      "metadata": {
        "colab": {
          "base_uri": "https://localhost:8080/"
        },
        "id": "FtT9ZGff2cma",
        "outputId": "94d37966-9482-4ebb-b017-02da7aad5ef5"
      },
      "outputs": [
        {
          "output_type": "stream",
          "name": "stdout",
          "text": [
            "torch.Size([1, 256, 256, 3]) torch.Size([1, 24])\n"
          ]
        }
      ],
      "source": [
        "for i, (a, b) in enumerate(test_dataloader):\n",
        "  print(a.shape, b.shape)\n",
        "  break"
      ]
    },
    {
      "cell_type": "code",
      "execution_count": null,
      "metadata": {
        "id": "4_GujZtsvJ5w"
      },
      "outputs": [],
      "source": [
        "import torch\n",
        "import torch.nn as nn\n",
        "\n",
        "def find_metrics(test_dataloader):\n",
        "    total_class = 0\n",
        "    loss_sum = 0\n",
        "    loss_function = nn.BCELoss()\n",
        "    correct_count = 0\n",
        "    class_correct = [0] * 24\n",
        "    class_total = [0] * 24\n",
        "    y_predict = []\n",
        "    y_actually = []\n",
        "    with torch.no_grad():\n",
        "        for i, (x_actual, y_actual) in enumerate(test_dataloader, 1):\n",
        "            x_actual, y_actual = x_actual.to(device), y_actual.type(torch.float32).to(device)\n",
        "            y_pred = model(x_actual)\n",
        "            y_pred = y_pred.view(-1, 24)\n",
        "            # Apply threshold to convert probabilities to binary predictions for accuracy calculation\n",
        "            y_pred_bin = (y_pred > 0.5).float()\n",
        "            correct = (y_actual == y_pred_bin).sum().item()\n",
        "            correct_count += correct\n",
        "            total_class += y_actual.nelement()\n",
        "            loss = loss_function(y_pred, y_actual)\n",
        "            loss_sum += loss.item()\n",
        "\n",
        "            y_predict.append(y_pred_bin.flatten().tolist())\n",
        "            y_actually.append(y_actual.flatten().tolist())\n",
        "\n",
        "\n",
        "    class_accuracy = [0] * 24\n",
        "    for y_p, y_a in zip(y_predict, y_actually):\n",
        "      for i in range(len(y_p)):\n",
        "        #print(a, b)\n",
        "        if y_p[i] == y_a[i]:\n",
        "          class_accuracy[i] += 1\n",
        "\n",
        "\n",
        "    for i in range(len(class_accuracy)):\n",
        "      class_accuracy[i] /= len(test)\n",
        "\n",
        "    #print(acc)\n",
        "\n",
        "    avg_loss = loss_sum / len(test_dataloader)\n",
        "    accuracy = correct_count / total_class\n",
        "    return avg_loss, accuracy, class_accuracy"
      ]
    },
    {
      "cell_type": "code",
      "execution_count": null,
      "metadata": {
        "id": "XAlxjTn_OH5t",
        "colab": {
          "base_uri": "https://localhost:8080/"
        },
        "outputId": "8126f6df-2354-45ce-d788-00ac41251cd6"
      },
      "outputs": [
        {
          "output_type": "stream",
          "name": "stdout",
          "text": [
            "Average Loss: 0.27725404482334853\n",
            "Accuracy: 0.8922916666666667\n",
            "Class Accuracy: [0.965, 0.675, 0.525, 0.965, 0.885, 0.91, 0.5, 0.89, 0.98, 0.88, 0.94, 0.985, 0.845, 0.995, 0.905, 0.795, 0.99, 0.99, 0.99, 0.93, 0.97, 0.975, 0.935, 0.995]\n"
          ]
        }
      ],
      "source": [
        "avg_loss, accuracy, class_accuracy = find_metrics(test_dataloader)\n",
        "\n",
        "print(f'Average Loss: {avg_loss}')\n",
        "print(f'Accuracy: {accuracy}')\n",
        "print(f'Class Accuracy: {class_accuracy}')"
      ]
    },
    {
      "cell_type": "markdown",
      "metadata": {
        "id": "JWPHsbHd3qjN"
      },
      "source": [
        "Use matplotlib to create graphs off of given data."
      ]
    },
    {
      "cell_type": "code",
      "execution_count": null,
      "metadata": {
        "colab": {
          "base_uri": "https://localhost:8080/",
          "height": 806
        },
        "id": "oW3HGtQrw8CU",
        "outputId": "bd5e9670-0352-48c3-df75-d9d97ab35b71"
      },
      "outputs": [
        {
          "output_type": "display_data",
          "data": {
            "text/plain": [
              "<Figure size 640x480 with 1 Axes>"
            ],
            "image/png": "[encoded data removed]"
          },
          "metadata": {}
        }
      ],
      "source": [
        "import matplotlib.pyplot as plt\n",
        "import numpy as np\n",
        "\n",
        "plt.bar(range(len(train_dictionary)), train_dictionary.values(), align= 'center')\n",
        "plt.xticks(range(len(train_dictionary)), train_dictionary.keys(), rotation= 90)\n",
        "plt.xlabel('Label Name')\n",
        "plt.ylabel('Frequency')\n",
        "\n",
        "plt.show()\n",
        "\n"
      ]
    },
    {
      "cell_type": "code",
      "execution_count": null,
      "metadata": {
        "id": "MYmBG7v6dgOr"
      },
      "outputs": [],
      "source": []
    }
  ],
  "metadata": {
    "colab": {
      "gpuType": "T4",
      "provenance": []
    },
    "kernelspec": {
      "display_name": "Python 3",
      "name": "python3"
    },
    "language_info": {
      "codemirror_mode": {
        "name": "ipython",
        "version": 3
      },
      "file_extension": ".py",
      "mimetype": "text/x-python",
      "name": "python",
      "nbconvert_exporter": "python",
      "pygments_lexer": "ipython3",
      "version": "3.7.0"
    }
  },
  "nbformat": 4,
  "nbformat_minor": 0
}