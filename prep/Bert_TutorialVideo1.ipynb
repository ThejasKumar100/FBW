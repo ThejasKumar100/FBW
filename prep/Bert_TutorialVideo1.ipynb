{
  "nbformat": 4,
  "nbformat_minor": 0,
  "metadata": {
    "colab": {
      "provenance": []
    },
    "kernelspec": {
      "name": "python3",
      "display_name": "Python 3"
    },
    "language_info": {
      "name": "python"
    }
  },
  "cells": [
    {
      "cell_type": "code",
      "execution_count": null,
      "metadata": {
        "id": "fu6YvnfWd-sk"
      },
      "outputs": [],
      "source": [
        "import tensorflow_hub as hub\n",
        "import tensorflow_text as text"
      ]
    },
    {
      "cell_type": "code",
      "source": [
        "preprocess_url = 'https://kaggle.com/models/tensorflow/bert/frameworks/TensorFlow2/variations/en-uncased-preprocess/versions/3'\n",
        "encoder_url = \"https://www.kaggle.com/models/tensorflow/bert/frameworks/TensorFlow2/variations/bert-en-uncased-l-12-h-768-a-12/versions/2\""
      ],
      "metadata": {
        "id": "fD5Fve7dfc3d"
      },
      "execution_count": null,
      "outputs": []
    },
    {
      "cell_type": "code",
      "source": [
        "bert_preprocess_model = hub.KerasLayer(preprocess_url)"
      ],
      "metadata": {
        "id": "XqvCdv8Jgmim"
      },
      "execution_count": null,
      "outputs": []
    },
    {
      "cell_type": "code",
      "source": [
        "text_test = ['nice movie indeed', 'I love python programming']\n",
        "text_preprocessed = bert_preprocess_model(text_test)\n",
        "text_preprocessed.keys()\n"
      ],
      "metadata": {
        "colab": {
          "base_uri": "https://localhost:8080/"
        },
        "id": "32OOkn57gqom",
        "outputId": "f3584020-3c8a-4add-fc3a-eff7b2d718e6"
      },
      "execution_count": null,
      "outputs": [
        {
          "output_type": "execute_result",
          "data": {
            "text/plain": [
              "dict_keys(['input_type_ids', 'input_mask', 'input_word_ids'])"
            ]
          },
          "metadata": {},
          "execution_count": 13
        }
      ]
    },
    {
      "cell_type": "code",
      "source": [
        "bert_model = hub.KerasLayer(encoder_url)\n",
        "\n",
        "bert_results = bert_model(text_preprocessed)\n",
        "bert_results.keys()"
      ],
      "metadata": {
        "colab": {
          "base_uri": "https://localhost:8080/"
        },
        "id": "41f-orCCh_DW",
        "outputId": "83644da7-6037-4d76-c01b-c3b096a8a2f4"
      },
      "execution_count": null,
      "outputs": [
        {
          "output_type": "execute_result",
          "data": {
            "text/plain": [
              "dict_keys(['encoder_outputs', 'sequence_output', 'pooled_output', 'default'])"
            ]
          },
          "metadata": {},
          "execution_count": 16
        }
      ]
    },
    {
      "cell_type": "code",
      "source": [
        "bert_results['pooled_output']"
      ],
      "metadata": {
        "colab": {
          "base_uri": "https://localhost:8080/"
        },
        "id": "ejey9sUHjBLu",
        "outputId": "1c637e22-229f-47dc-cd24-a8eed959dc2e"
      },
      "execution_count": null,
      "outputs": [
        {
          "output_type": "execute_result",
          "data": {
            "text/plain": [
              "<tf.Tensor: shape=(2, 768), dtype=float32, numpy=\n",
              "array([[ 0.31700474, -0.00897161,  0.9470521 , ..., -0.7634885 ,\n",
              "         0.16718054,  0.9982938 ],\n",
              "       [ 0.3991409 , -0.14203501,  0.9058576 , ..., -0.78319436,\n",
              "         0.17452335,  0.9984515 ]], dtype=float32)>"
            ]
          },
          "metadata": {},
          "execution_count": 19
        }
      ]
    },
    {
      "cell_type": "code",
      "source": [
        "bert_results['sequence_output']"
      ],
      "metadata": {
        "colab": {
          "base_uri": "https://localhost:8080/"
        },
        "id": "a-RLyLAejMIo",
        "outputId": "081aa282-bdf2-4a1c-f396-78ccf47cb01f"
      },
      "execution_count": null,
      "outputs": [
        {
          "output_type": "execute_result",
          "data": {
            "text/plain": [
              "<tf.Tensor: shape=(2, 128, 768), dtype=float32, numpy=\n",
              "array([[[-0.80176634,  0.32361233,  0.06374362, ...,  0.16129759,\n",
              "         -0.40045106, -0.5926615 ],\n",
              "        [ 0.12236653, -0.02574404,  0.33795908, ...,  0.4220083 ,\n",
              "         -0.00308669, -0.01367626],\n",
              "        [-0.22754873,  0.13265473,  0.12623407, ..., -0.13245113,\n",
              "         -0.29856133, -0.65101933],\n",
              "        ...,\n",
              "        [-0.0969215 ,  0.29766482,  0.28932047, ..., -0.09318282,\n",
              "         -0.08340856,  0.21456768],\n",
              "        [-0.2273308 ,  0.42583904,  0.0860441 , ...,  0.00257993,\n",
              "          0.02146193,  0.2590342 ],\n",
              "        [-0.22111098,  0.7789582 , -0.07339074, ...,  0.01744242,\n",
              "         -0.07840022, -0.22917928]],\n",
              "\n",
              "       [[ 0.05904213, -0.21204117, -0.13617851, ...,  0.43750256,\n",
              "          0.5026955 , -0.35996336],\n",
              "        [ 0.6707301 ,  0.14048877, -0.09224142, ...,  0.42108783,\n",
              "          0.41119042, -0.5584124 ],\n",
              "        [ 0.17798199, -0.49039   , -0.38667142, ...,  0.1257011 ,\n",
              "         -0.2774938 , -0.15996684],\n",
              "        ...,\n",
              "        [ 0.09613043,  0.09817433, -0.08416954, ...,  0.0834782 ,\n",
              "          0.40399966,  0.11006398],\n",
              "        [ 0.38159353,  0.0698175 ,  0.11602609, ...,  0.11969946,\n",
              "          0.38731143, -0.1336098 ],\n",
              "        [ 0.07852425, -0.13976952, -0.10609241, ...,  0.2307665 ,\n",
              "          0.2601912 ,  0.10897444]]], dtype=float32)>"
            ]
          },
          "metadata": {},
          "execution_count": 20
        }
      ]
    },
    {
      "cell_type": "code",
      "source": [
        "bert_results['encoder_outputs'][0]"
      ],
      "metadata": {
        "colab": {
          "base_uri": "https://localhost:8080/"
        },
        "id": "5MQsUx9rj_EI",
        "outputId": "90666774-d945-4ccc-a2b4-c3d10dbdf80d"
      },
      "execution_count": null,
      "outputs": [
        {
          "output_type": "execute_result",
          "data": {
            "text/plain": [
              "<tf.Tensor: shape=(2, 128, 768), dtype=float32, numpy=\n",
              "array([[[ 0.07753128, -0.13169813, -0.12158287, ..., -0.2069684 ,\n",
              "         -0.08625421,  0.03867288],\n",
              "        [ 0.4165198 , -0.5702618 ,  0.30443764, ...,  1.0894068 ,\n",
              "         -1.1624614 ,  0.31072158],\n",
              "        [-0.6930369 , -1.03197   , -0.2733961 , ...,  0.5024312 ,\n",
              "          0.09017463,  0.08964971],\n",
              "        ...,\n",
              "        [ 0.6270519 ,  0.44989935,  0.42121613, ..., -0.26613608,\n",
              "          0.3644551 , -0.37089464],\n",
              "        [ 0.68282175,  0.548256  ,  0.34665585, ..., -0.29157376,\n",
              "          0.39371547, -0.2907476 ],\n",
              "        [ 0.6804481 ,  0.5809116 ,  0.3258676 , ..., -0.17651248,\n",
              "          0.447802  , -0.24795158]],\n",
              "\n",
              "       [[ 0.02516399, -0.16400944, -0.04662891, ..., -0.2618655 ,\n",
              "         -0.11140703,  0.15489224],\n",
              "        [ 0.37214527,  0.7362576 , -0.37717193, ...,  0.6425172 ,\n",
              "         -0.6226271 ,  0.05394955],\n",
              "        [-1.3278612 , -0.0473671 ,  0.47504824, ...,  0.01998842,\n",
              "         -0.4994462 ,  1.6198301 ],\n",
              "        ...,\n",
              "        [ 0.08730092,  0.25997493,  0.19453129, ..., -0.48460335,\n",
              "         -0.09897302,  0.08190538],\n",
              "        [ 0.11813483,  0.35214657,  0.13684383, ..., -0.49979624,\n",
              "         -0.03220356,  0.1556836 ],\n",
              "        [ 0.13688052,  0.396102  ,  0.1395889 , ..., -0.40598854,\n",
              "          0.02165354,  0.17896882]]], dtype=float32)>"
            ]
          },
          "metadata": {},
          "execution_count": 26
        }
      ]
    }
  ]
}